{
 "cells": [
  {
   "cell_type": "markdown",
   "metadata": {},
   "source": [
    "# Interest 1\n",
    "- Simple Interest\n",
    "- Compound Interest\n",
    "> It might seem like a very subtle distinction, but it ends up being a very big difference.\n",
    "\n",
    "# Interest 2\n",
    "\n",
    "continuously compounding interest → the magic of e\n",
    "\n",
    "# Present Value 1\n",
    "> we are discounting the money, 'cause we're backwards in time.\n",
    "# Present Value 2"
   ]
  },
  {
   "cell_type": "code",
   "execution_count": 16,
   "metadata": {},
   "outputs": [
    {
     "name": "stdout",
     "output_type": "stream",
     "text": [
      "95.02213583846236\n"
     ]
    }
   ],
   "source": [
    "# https://www.jianshu.com/p/ece03f411b01\n",
    "import numpy as np\n",
    "c1 = np.array((100,0,0))\n",
    "c2 = np.array((0,0,110))\n",
    "c3 = np.array((20,50,35))\n",
    "#np.pv(rate, nper, pmt, fv=0, when='end')\n",
    "print(np.pv(rate=0.05,nper=3,pmt=0,fv=-110))"
   ]
  },
  {
   "cell_type": "code",
   "execution_count": 17,
   "metadata": {},
   "outputs": [
    {
     "data": {
      "text/plain": [
       "99.36507936507937"
      ]
     },
     "execution_count": 17,
     "metadata": {},
     "output_type": "execute_result"
    }
   ],
   "source": [
    "cf = np.array([20,50,35])\n",
    "np.npv(rate=0.05,values=cf)"
   ]
  },
  {
   "cell_type": "markdown",
   "metadata": {},
   "source": [
    "# Present Value 3\n",
    "# Present Value 4"
   ]
  },
  {
   "cell_type": "markdown",
   "metadata": {},
   "source": [
    "# Balance Sheet"
   ]
  },
  {
   "cell_type": "markdown",
   "metadata": {},
   "source": [
    "# Statement of assets and liabilities"
   ]
  },
  {
   "cell_type": "markdown",
   "metadata": {},
   "source": [
    "# Home equity loan"
   ]
  },
  {
   "cell_type": "markdown",
   "metadata": {},
   "source": [
    "# Renting or Buying\n",
    "# Renting or Buying 2\n",
    "# Renting or Buying 3"
   ]
  },
  {
   "cell_type": "markdown",
   "metadata": {},
   "source": [
    "# House Price \n",
    "# House Price 2\n",
    " - down payment\n",
    " - steady job\n",
    " - good credit"
   ]
  },
  {
   "cell_type": "markdown",
   "metadata": {},
   "source": [
    "# House Price 3\n",
    " \n",
    " > Why were people willing to give their cash to people to people to buy a house that had a very likelihood of getting paid back, and for a house that had a very low likelihood of being able to retain its value? (2000-2006)\n",
    " \n",
    "\n",
    " [Securitization of the mortgage market](http://open.163.com/movie/2011/9/D/M/M8DOH67K8_M8DQQCFDM.html)"
   ]
  },
  {
   "cell_type": "markdown",
   "metadata": {},
   "source": [
    "# House Price 4\n",
    "> Why the defaults were very low in that time period?"
   ]
  },
  {
   "cell_type": "markdown",
   "metadata": {},
   "source": [
    "# Stock/Share/Bond\n",
    "# Stock/Share/Bond 2"
   ]
  },
  {
   "cell_type": "markdown",
   "metadata": {},
   "source": [
    "# Short-Seller 1\n",
    "# Short-Seller 2"
   ]
  },
  {
   "cell_type": "markdown",
   "metadata": {},
   "source": [
    "# Short-Seller 3\n",
    "- Positive\n",
    "    - Management\n",
    "    - Financial Press\n",
    "- Scrutinize\n",
    "    - Short Sellers"
   ]
  },
  {
   "cell_type": "markdown",
   "metadata": {},
   "source": [
    "# Bankruptcy\n",
    "- Liquidation\n",
    "- restructuring\n",
    "\n",
    "# NULL\n",
    "# ROC"
   ]
  },
  {
   "cell_type": "markdown",
   "metadata": {},
   "source": [
    "# Credit Default Swap\n",
    "> 信用违约互换；is a form of insurance.\n",
    "1% = 100 bases points\n",
    "# Mortgages\n",
    "> Since I now have bought these mortgages, I've essentially become the lender to the home-owner. So the home-owner's martgage payment will now come to me the Investment Bank. But I don't want to be the end holder of paper. I really want to be the intermediary. So what I do is set up a Special Purpose Entity,which is really just a corporation that I set up. And I stick all of the mortgages inside that SPE. So now the SPE is the owner of the mortgages. The investment bank at least starting off with all of the shares of the SPE, so the investment bank could then sell shares. It could split the SPE into a million or ten million shares and then sell those shares to investors. And these shares would be called Mortgage-Backed Securities. There are part of a general class called Asset-Backed Securities(资产抵押债券)， because what is going to happen now is that all of this money flowing from home-owners will go to the mortgages, which is now on the SPE. So all ended up inside the SPE. And some of them will default, some of them won't. But on averages this SPE will then be able to pay dividend. Essentially you can almost fueled on interest to the owner of the Mortgages-Backed Security"
   ]
  },
  {
   "cell_type": "markdown",
   "metadata": {},
   "source": [
    "# Colateralized Debt Obligation\n",
    "> 债务抵押债券；CDO is a derivative security from the mortgages. We sliced it and diced it in a slightly different way.\n",
    "- Senior Tranche\n",
    "- Mezzanine Tranche\n",
    "- Equity Tranche"
   ]
  },
  {
   "cell_type": "markdown",
   "metadata": {},
   "source": [
    "# Mortgage backed securities"
   ]
  },
  {
   "cell_type": "markdown",
   "metadata": {},
   "source": [
    "# Mortgage backed securities 2\n",
    "> it is important to think about how the money's flowing.\n",
    "# Mortgage backed securities 3\n",
    "> investors get 10% only if every one of these borrowers paid their loans, never defailts, never pre-pays. Pre-paying a mortgage is just saying, I sold the house. I don't need the mortgages anymore, so I just pay it off.\n",
    "# Mortgage backed securities 4\n",
    "> all derivative means is you take one type of asset and you slice and dice it in a way to spread the risk,so you create a derivative asset. It is derived from the original asset."
   ]
  },
  {
   "cell_type": "markdown",
   "metadata": {},
   "source": [
    "# Yield Curve\n",
    "> Inverted yield curve: get lower yields for longer duration investments.\n",
    "# Compound Interest & E 1\n",
    "# Compound Interest & E 2\n",
    "# Compound Interest & E 3\n",
    "# Compound Interest & E 4"
   ]
  },
  {
   "cell_type": "code",
   "execution_count": 10,
   "metadata": {},
   "outputs": [
    {
     "data": {
      "text/plain": [
       "E"
      ]
     },
     "execution_count": 10,
     "metadata": {},
     "output_type": "execute_result"
    }
   ],
   "source": [
    "#https://blog.csdn.net/j2IaYU7Y/article/details/81771497\n",
    "from symbol import *\n",
    "n = Symbol('n')\n",
    "f = (1+1/n)**n\n",
    "limit(f,n,oo)"
   ]
  },
  {
   "cell_type": "markdown",
   "metadata": {},
   "source": [
    "# Bailout 1\n",
    "> there is a lot of fancy terminalogy being thrown around, but the underlying concepts really aren't that fancy.\n",
    "> Assets that will give you the feature benefit.\n",
    "\n",
    "- Insolvency\n",
    "- illiquidity\n",
    "\n",
    "# Bailout 2 Booking Equity\n",
    "- commercial mortgages\n",
    "- residentail CDOs 住房债务抵押债券"
   ]
  },
  {
   "cell_type": "markdown",
   "metadata": {},
   "source": [
    "# Bailout 3 Booking Value & Market Value\n",
    "# Bailout 4 \n",
    "- Mark-to-Market\n",
    "- Mark-to-Model"
   ]
  },
  {
   "cell_type": "markdown",
   "metadata": {},
   "source": [
    "# Bailout 5 Settlement of Obligation\n",
    "# Bailout 6 Deleveraging\n",
    "> that's why the market price of something in the secondary markets where a share is just trading between peoplw who aren't related to the company, why that's important, because when the company needs to raise money, that is used as kind of the fair market value of a company's shares. (就用来作为公司股票的一种公平价格)\n",
    "\n",
    "Sovereign Wealth Fund (主权财富基金投资)"
   ]
  },
  {
   "cell_type": "markdown",
   "metadata": {},
   "source": [
    "# Bailout 7 Bankruptcy\n",
    "# Bailout 8 Systematic Risk "
   ]
  },
  {
   "cell_type": "markdown",
   "metadata": {},
   "source": [
    "# Bailout 9 Paulson’s plan\n",
    "https://www.jianshu.com/p/3efa42d8a2c1\n",
    "# Bailout 10 Moral Hazard"
   ]
  },
  {
   "cell_type": "markdown",
   "metadata": {},
   "source": [
    "# Credit Default Swap 1\n",
    "> 信用违约互换\n",
    "# Credit Default Swap 2\n",
    "> this is really the point that Warren Buffett wa saying that credit defaults swap market, in general, the derivative market are financial weapons of mass destruction."
   ]
  },
  {
   "cell_type": "markdown",
   "metadata": {},
   "source": [
    "# Savings/Consumption/Investment 1\n",
    "# Savings/Consumption/Investment 2"
   ]
  },
  {
   "cell_type": "markdown",
   "metadata": {},
   "source": [
    "# Bailout 11 Collateralized Debt Obligations\n",
    "# Bailout 12 Merrill Lynch\n",
    "https://open.163.com/movie/2011/9/R/V/M8DOH67K8_M8DQULJRV.html"
   ]
  },
  {
   "cell_type": "markdown",
   "metadata": {},
   "source": [
    "# Bailout 13 \n",
    "# How a housing bubble can lead to wealth destruction"
   ]
  },
  {
   "cell_type": "markdown",
   "metadata": {},
   "source": [
    "# How a housing bubble can lead to wealth destruction 2\n",
    "> short sale is when you sell sth for less than what you owe on it (亏本出售发生在你卖掉某物的价格少于你因此物而签下的债务的时候)\n",
    "# Bailout 14"
   ]
  },
  {
   "cell_type": "markdown",
   "metadata": {},
   "source": [
    "# Bailout 15"
   ]
  }
 ],
 "metadata": {
  "kernelspec": {
   "display_name": "Python 3",
   "language": "python",
   "name": "python3"
  },
  "language_info": {
   "codemirror_mode": {
    "name": "ipython",
    "version": 3
   },
   "file_extension": ".py",
   "mimetype": "text/x-python",
   "name": "python",
   "nbconvert_exporter": "python",
   "pygments_lexer": "ipython3",
   "version": "3.6.5"
  },
  "latex_envs": {
   "LaTeX_envs_menu_present": true,
   "autoclose": false,
   "autocomplete": true,
   "bibliofile": "biblio.bib",
   "cite_by": "apalike",
   "current_citInitial": 1,
   "eqLabelWithNumbers": true,
   "eqNumInitial": 1,
   "hotkeys": {
    "equation": "Ctrl-E",
    "itemize": "Ctrl-I"
   },
   "labels_anchors": false,
   "latex_user_defs": false,
   "report_style_numbering": false,
   "user_envs_cfg": false
  },
  "toc": {
   "base_numbering": 1,
   "nav_menu": {},
   "number_sections": true,
   "sideBar": true,
   "skip_h1_title": false,
   "title_cell": "Table of Contents",
   "title_sidebar": "Contents",
   "toc_cell": false,
   "toc_position": {},
   "toc_section_display": true,
   "toc_window_display": false
  }
 },
 "nbformat": 4,
 "nbformat_minor": 2
}
