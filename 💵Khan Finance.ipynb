{
 "cells": [
  {
   "cell_type": "markdown",
   "metadata": {},
   "source": [
    "# Interest 1\n",
    "- Simple Interest\n",
    "- Compound Interest\n",
    "> It might seem like a very subtle distinction, but it ends up being a very big difference.\n",
    "\n",
    "# Interest 2\n",
    "\n",
    "continuously compounding interest → the magic of e\n",
    "\n",
    "# Present Value 1\n",
    "> we are discounting the money, 'cause we're backwards in time.\n",
    "# Present Value 2"
   ]
  },
  {
   "cell_type": "code",
   "execution_count": 16,
   "metadata": {},
   "outputs": [
    {
     "name": "stdout",
     "output_type": "stream",
     "text": [
      "95.02213583846236\n"
     ]
    }
   ],
   "source": [
    "# https://www.jianshu.com/p/ece03f411b01\n",
    "import numpy as np\n",
    "c1 = np.array((100,0,0))\n",
    "c2 = np.array((0,0,110))\n",
    "c3 = np.array((20,50,35))\n",
    "#np.pv(rate, nper, pmt, fv=0, when='end')\n",
    "print(np.pv(rate=0.05,nper=3,pmt=0,fv=-110))"
   ]
  },
  {
   "cell_type": "code",
   "execution_count": 17,
   "metadata": {},
   "outputs": [
    {
     "data": {
      "text/plain": [
       "99.36507936507937"
      ]
     },
     "execution_count": 17,
     "metadata": {},
     "output_type": "execute_result"
    }
   ],
   "source": [
    "cf = np.array([20,50,35])\n",
    "np.npv(rate=0.05,values=cf)"
   ]
  },
  {
   "cell_type": "markdown",
   "metadata": {},
   "source": [
    "# Present Value 3\n",
    "# Present Value 4"
   ]
  },
  {
   "cell_type": "markdown",
   "metadata": {},
   "source": [
    "# Balance Sheet"
   ]
  },
  {
   "cell_type": "markdown",
   "metadata": {},
   "source": [
    "# Statement of assets and liabilities"
   ]
  },
  {
   "cell_type": "markdown",
   "metadata": {},
   "source": [
    "# Home equity loan"
   ]
  },
  {
   "cell_type": "markdown",
   "metadata": {},
   "source": [
    "# Renting or Buying\n",
    "# Renting or Buying 2\n",
    "# Renting or Buying 3"
   ]
  },
  {
   "cell_type": "markdown",
   "metadata": {},
   "source": [
    "# House Price \n",
    "# House Price 2\n",
    " - down payment\n",
    " - steady job\n",
    " - good credit"
   ]
  },
  {
   "cell_type": "markdown",
   "metadata": {},
   "source": [
    "# House Price 3\n",
    " \n",
    " > Why were people willing to give their cash to people to people to buy a house that had a very likelihood of getting paid back, and for a house that had a very low likelihood of being able to retain its value? (2000-2006)\n",
    " \n",
    "\n",
    " [Securitization of the mortgage market](http://open.163.com/movie/2011/9/D/M/M8DOH67K8_M8DQQCFDM.html)"
   ]
  },
  {
   "cell_type": "markdown",
   "metadata": {},
   "source": [
    "# House Price 4\n",
    "> Why the defaults were very low in that time period?"
   ]
  },
  {
   "cell_type": "markdown",
   "metadata": {},
   "source": [
    "# Stock/Share/Bond\n",
    "# Stock/Share/Bond 2"
   ]
  }
 ],
 "metadata": {
  "kernelspec": {
   "display_name": "Python 3",
   "language": "python",
   "name": "python3"
  },
  "language_info": {
   "codemirror_mode": {
    "name": "ipython",
    "version": 3
   },
   "file_extension": ".py",
   "mimetype": "text/x-python",
   "name": "python",
   "nbconvert_exporter": "python",
   "pygments_lexer": "ipython3",
   "version": "3.6.5"
  },
  "latex_envs": {
   "LaTeX_envs_menu_present": true,
   "autoclose": false,
   "autocomplete": true,
   "bibliofile": "biblio.bib",
   "cite_by": "apalike",
   "current_citInitial": 1,
   "eqLabelWithNumbers": true,
   "eqNumInitial": 1,
   "hotkeys": {
    "equation": "Ctrl-E",
    "itemize": "Ctrl-I"
   },
   "labels_anchors": false,
   "latex_user_defs": false,
   "report_style_numbering": false,
   "user_envs_cfg": false
  },
  "toc": {
   "base_numbering": 1,
   "nav_menu": {},
   "number_sections": true,
   "sideBar": true,
   "skip_h1_title": false,
   "title_cell": "Table of Contents",
   "title_sidebar": "Contents",
   "toc_cell": false,
   "toc_position": {},
   "toc_section_display": true,
   "toc_window_display": false
  }
 },
 "nbformat": 4,
 "nbformat_minor": 2
}
