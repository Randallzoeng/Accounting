{
 "cells": [
  {
   "cell_type": "markdown",
   "metadata": {},
   "source": [
    "# Interest 1\n",
    "- Simple Interest\n",
    "- Compound Interest\n",
    "> It might seem like a very subtle distinction, but it ends up being a very big difference.\n",
    "\n",
    "# Interest 2\n",
    "\n",
    "continuously compounding interest → the magic of e\n",
    "\n",
    "# Present Value 1\n",
    "> we are discounting the money, 'cause we're backwards in time.\n",
    "# Present Value 2"
   ]
  },
  {
   "cell_type": "code",
   "execution_count": 16,
   "metadata": {},
   "outputs": [
    {
     "name": "stdout",
     "output_type": "stream",
     "text": [
      "95.02213583846236\n"
     ]
    }
   ],
   "source": [
    "# https://www.jianshu.com/p/ece03f411b01\n",
    "import numpy as np\n",
    "c1 = np.array((100,0,0))\n",
    "c2 = np.array((0,0,110))\n",
    "c3 = np.array((20,50,35))\n",
    "#np.pv(rate, nper, pmt, fv=0, when='end')\n",
    "print(np.pv(rate=0.05,nper=3,pmt=0,fv=-110))"
   ]
  },
  {
   "cell_type": "code",
   "execution_count": 17,
   "metadata": {},
   "outputs": [
    {
     "data": {
      "text/plain": [
       "99.36507936507937"
      ]
     },
     "execution_count": 17,
     "metadata": {},
     "output_type": "execute_result"
    }
   ],
   "source": [
    "cf = np.array([20,50,35])\n",
    "np.npv(rate=0.05,values=cf)"
   ]
  },
  {
   "cell_type": "markdown",
   "metadata": {},
   "source": [
    "# Present Value 3\n",
    "# Present Value 4"
   ]
  },
  {
   "cell_type": "markdown",
   "metadata": {},
   "source": [
    "# Balance Sheet"
   ]
  },
  {
   "cell_type": "markdown",
   "metadata": {},
   "source": [
    "# Statement of assets and liabilities"
   ]
  },
  {
   "cell_type": "markdown",
   "metadata": {},
   "source": [
    "# Home equity loan"
   ]
  },
  {
   "cell_type": "markdown",
   "metadata": {},
   "source": [
    "# Renting or Buying\n",
    "# Renting or Buying 2\n",
    "# Renting or Buying 3"
   ]
  },
  {
   "cell_type": "markdown",
   "metadata": {},
   "source": [
    "# House Price \n",
    "# House Price 2\n",
    " - down payment\n",
    " - steady job\n",
    " - good credit"
   ]
  },
  {
   "cell_type": "markdown",
   "metadata": {},
   "source": [
    "# House Price 3\n",
    " \n",
    " > Why were people willing to give their cash to people to people to buy a house that had a very likelihood of getting paid back, and for a house that had a very low likelihood of being able to retain its value? (2000-2006)\n",
    " \n",
    "\n",
    " [Securitization of the mortgage market](http://open.163.com/movie/2011/9/D/M/M8DOH67K8_M8DQQCFDM.html)"
   ]
  },
  {
   "cell_type": "markdown",
   "metadata": {},
   "source": [
    "# House Price 4\n",
    "> Why the defaults were very low in that time period?"
   ]
  },
  {
   "cell_type": "markdown",
   "metadata": {},
   "source": [
    "# Stock/Share/Bond\n",
    "# Stock/Share/Bond 2"
   ]
  },
  {
   "cell_type": "markdown",
   "metadata": {},
   "source": [
    "# Short-Seller 1\n",
    "# Short-Seller 2"
   ]
  },
  {
   "cell_type": "markdown",
   "metadata": {},
   "source": [
    "# Short-Seller 3\n",
    "- Positive\n",
    "    - Management\n",
    "    - Financial Press\n",
    "- Scrutinize\n",
    "    - Short Sellers"
   ]
  },
  {
   "cell_type": "markdown",
   "metadata": {},
   "source": [
    "# Bankruptcy\n",
    "- Liquidation\n",
    "- restructuring\n",
    "\n",
    "# NULL\n",
    "# ROC"
   ]
  },
  {
   "cell_type": "markdown",
   "metadata": {},
   "source": [
    "# Credit Default Swap\n",
    "> 信用违约互换；is a form of insurance.\n",
    "1% = 100 bases points\n",
    "# Mortgages\n",
    "> Since I now have bought these mortgages, I've essentially become the lender to the home-owner. So the home-owner's martgage payment will now come to me the Investment Bank. But I don't want to be the end holder of paper. I really want to be the intermediary. So what I do is set up a Special Purpose Entity,which is really just a corporation that I set up. And I stick all of the mortgages inside that SPE. So now the SPE is the owner of the mortgages. The investment bank at least starting off with all of the shares of the SPE, so the investment bank could then sell shares. It could split the SPE into a million or ten million shares and then sell those shares to investors. And these shares would be called Mortgage-Backed Securities. There are part of a general class called Asset-Backed Securities(资产抵押债券)， because what is going to happen now is that all of this money flowing from home-owners will go to the mortgages, which is now on the SPE. So all ended up inside the SPE. And some of them will default, some of them won't. But on averages this SPE will then be able to pay dividend. Essentially you can almost fueled on interest to the owner of the Mortgages-Backed Security"
   ]
  },
  {
   "cell_type": "markdown",
   "metadata": {},
   "source": [
    "# Colateralized Debt Obligation\n",
    "> 债务抵押债券；CDO is a derivative security from the mortgages. We sliced it and diced it in a slightly different way.\n",
    "- Senior Tranche\n",
    "- Mezzanine Tranche\n",
    "- Equity Tranche"
   ]
  },
  {
   "cell_type": "markdown",
   "metadata": {},
   "source": [
    "# Mortgage backed securities"
   ]
  }
 ],
 "metadata": {
  "kernelspec": {
   "display_name": "Python 3",
   "language": "python",
   "name": "python3"
  },
  "language_info": {
   "codemirror_mode": {
    "name": "ipython",
    "version": 3
   },
   "file_extension": ".py",
   "mimetype": "text/x-python",
   "name": "python",
   "nbconvert_exporter": "python",
   "pygments_lexer": "ipython3",
   "version": "3.6.5"
  },
  "latex_envs": {
   "LaTeX_envs_menu_present": true,
   "autoclose": false,
   "autocomplete": true,
   "bibliofile": "biblio.bib",
   "cite_by": "apalike",
   "current_citInitial": 1,
   "eqLabelWithNumbers": true,
   "eqNumInitial": 1,
   "hotkeys": {
    "equation": "Ctrl-E",
    "itemize": "Ctrl-I"
   },
   "labels_anchors": false,
   "latex_user_defs": false,
   "report_style_numbering": false,
   "user_envs_cfg": false
  },
  "toc": {
   "base_numbering": 1,
   "nav_menu": {},
   "number_sections": true,
   "sideBar": true,
   "skip_h1_title": false,
   "title_cell": "Table of Contents",
   "title_sidebar": "Contents",
   "toc_cell": false,
   "toc_position": {},
   "toc_section_display": true,
   "toc_window_display": false
  }
 },
 "nbformat": 4,
 "nbformat_minor": 2
}
