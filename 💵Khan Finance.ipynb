{
 "cells": [
  {
   "cell_type": "markdown",
   "metadata": {},
   "source": [
    "https://www.khanacademy.org/economics-finance-domain/core-finance"
   ]
  },
  {
   "cell_type": "markdown",
   "metadata": {},
   "source": [
    "# Interest 1\n",
    "- Simple Interest\n",
    "- Compound Interest\n",
    "> It might seem like a very subtle distinction, but it ends up being a very big difference.\n",
    "\n",
    "# Interest 2\n",
    "\n",
    "continuously compounding interest → the magic of e\n",
    "\n",
    "# Present Value 1\n",
    "> we are discounting the money, 'cause we're backwards in time.\n",
    "# Present Value 2"
   ]
  },
  {
   "cell_type": "code",
   "execution_count": 16,
   "metadata": {},
   "outputs": [
    {
     "name": "stdout",
     "output_type": "stream",
     "text": [
      "95.02213583846236\n"
     ]
    }
   ],
   "source": [
    "# https://www.jianshu.com/p/ece03f411b01\n",
    "import numpy as np\n",
    "c1 = np.array((100,0,0))\n",
    "c2 = np.array((0,0,110))\n",
    "c3 = np.array((20,50,35))\n",
    "#np.pv(rate, nper, pmt, fv=0, when='end')\n",
    "print(np.pv(rate=0.05,nper=3,pmt=0,fv=-110))"
   ]
  },
  {
   "cell_type": "code",
   "execution_count": 17,
   "metadata": {},
   "outputs": [
    {
     "data": {
      "text/plain": [
       "99.36507936507937"
      ]
     },
     "execution_count": 17,
     "metadata": {},
     "output_type": "execute_result"
    }
   ],
   "source": [
    "cf = np.array([20,50,35])\n",
    "np.npv(rate=0.05,values=cf)"
   ]
  },
  {
   "cell_type": "markdown",
   "metadata": {},
   "source": [
    "# Present Value 3\n",
    "# Present Value 4"
   ]
  },
  {
   "cell_type": "markdown",
   "metadata": {},
   "source": [
    "# Balance Sheet"
   ]
  },
  {
   "cell_type": "markdown",
   "metadata": {},
   "source": [
    "# Statement of assets and liabilities"
   ]
  },
  {
   "cell_type": "markdown",
   "metadata": {},
   "source": [
    "# Home equity loan"
   ]
  },
  {
   "cell_type": "markdown",
   "metadata": {},
   "source": [
    "# Renting or Buying\n",
    "# Renting or Buying 2\n",
    "# Renting or Buying 3"
   ]
  },
  {
   "cell_type": "markdown",
   "metadata": {},
   "source": [
    "# House Price \n",
    "# House Price 2\n",
    " - down payment\n",
    " - steady job\n",
    " - good credit"
   ]
  },
  {
   "cell_type": "markdown",
   "metadata": {},
   "source": [
    "# House Price 3\n",
    " \n",
    " > Why were people willing to give their cash to people to people to buy a house that had a very likelihood of getting paid back, and for a house that had a very low likelihood of being able to retain its value? (2000-2006)\n",
    " \n",
    "\n",
    " [Securitization of the mortgage market](http://open.163.com/movie/2011/9/D/M/M8DOH67K8_M8DQQCFDM.html)"
   ]
  },
  {
   "cell_type": "markdown",
   "metadata": {},
   "source": [
    "# House Price 4\n",
    "> Why the defaults were very low in that time period?"
   ]
  },
  {
   "cell_type": "markdown",
   "metadata": {},
   "source": [
    "# Stock/Share/Bond\n",
    "# Stock/Share/Bond 2"
   ]
  },
  {
   "cell_type": "markdown",
   "metadata": {},
   "source": [
    "# Short-Seller 1\n",
    "# Short-Seller 2"
   ]
  },
  {
   "cell_type": "markdown",
   "metadata": {},
   "source": [
    "# Short-Seller 3\n",
    "- Positive\n",
    "    - Management\n",
    "    - Financial Press\n",
    "- Scrutinize\n",
    "    - Short Sellers"
   ]
  },
  {
   "cell_type": "markdown",
   "metadata": {},
   "source": [
    "`Sell High Buy Low`\n",
    "At some degree, making a bet that a stock will fall.\n",
    "when you go short, you are borrowing the security and selling it. \n",
    "So you borrow a share of IBM from broker. And you are going to have to pay rent to borrow that share, selling it. Then you go out there and buy shares of IBM back."
   ]
  },
  {
   "cell_type": "markdown",
   "metadata": {},
   "source": [
    "What would shorting do? Short-seller is creating extra supply for the stock, might actually be lowering the price at this point.  At the low point you have more aggregate buyers, covering a short position. They are actually reducing the volatility of the stock,"
   ]
  },
  {
   "cell_type": "markdown",
   "metadata": {},
   "source": [
    "# Bankruptcy\n",
    "- Liquidation\n",
    "- restructuring\n",
    "\n",
    "# NULL\n",
    "# ROC"
   ]
  },
  {
   "cell_type": "markdown",
   "metadata": {},
   "source": [
    "# Credit Default Swap\n",
    "> 信用违约互换；is a form of insurance.\n",
    "1% = 100 bases points\n",
    "# Mortgages\n",
    "> Since I now have bought these mortgages, I've essentially become the lender to the home-owner. So the home-owner's martgage payment will now come to me the Investment Bank. But I don't want to be the end holder of paper. I really want to be the intermediary. So what I do is set up a Special Purpose Entity,which is really just a corporation that I set up. And I stick all of the mortgages inside that SPE. So now the SPE is the owner of the mortgages. The investment bank at least starting off with all of the shares of the SPE, so the investment bank could then sell shares. It could split the SPE into a million or ten million shares and then sell those shares to investors. And these shares would be called Mortgage-Backed Securities. There are part of a general class called Asset-Backed Securities(资产抵押债券)， because what is going to happen now is that all of this money flowing from home-owners will go to the mortgages, which is now on the SPE. So all ended up inside the SPE. And some of them will default, some of them won't. But on averages this SPE will then be able to pay dividend. Essentially you can almost fueled on interest to the owner of the Mortgages-Backed Security"
   ]
  },
  {
   "cell_type": "markdown",
   "metadata": {},
   "source": [
    "# Colateralized Debt Obligation\n",
    "> 债务抵押债券；CDO is a derivative security from the mortgages. We sliced it and diced it in a slightly different way.\n",
    "- Senior Tranche\n",
    "- Mezzanine Tranche\n",
    "- Equity Tranche"
   ]
  },
  {
   "cell_type": "markdown",
   "metadata": {},
   "source": [
    "# Mortgage backed securities"
   ]
  },
  {
   "cell_type": "markdown",
   "metadata": {},
   "source": [
    "# Mortgage backed securities 2\n",
    "> it is important to think about how the money's flowing.\n",
    "# Mortgage backed securities 3\n",
    "> investors get 10% only if every one of these borrowers paid their loans, never defailts, never pre-pays. Pre-paying a mortgage is just saying, I sold the house. I don't need the mortgages anymore, so I just pay it off.\n",
    "# Mortgage backed securities 4\n",
    "> all derivative means is you take one type of asset and you slice and dice it in a way to spread the risk,so you create a derivative asset. It is derived from the original asset."
   ]
  },
  {
   "cell_type": "markdown",
   "metadata": {},
   "source": [
    "# Yield Curve\n",
    "> Inverted yield curve: get lower yields for longer duration investments.\n",
    "# Compound Interest & E 1\n",
    "# Compound Interest & E 2\n",
    "# Compound Interest & E 3\n",
    "# Compound Interest & E 4"
   ]
  },
  {
   "cell_type": "code",
   "execution_count": 10,
   "metadata": {},
   "outputs": [
    {
     "data": {
      "text/plain": [
       "E"
      ]
     },
     "execution_count": 10,
     "metadata": {},
     "output_type": "execute_result"
    }
   ],
   "source": [
    "#https://blog.csdn.net/j2IaYU7Y/article/details/81771497\n",
    "from symbol import *\n",
    "n = Symbol('n')\n",
    "f = (1+1/n)**n\n",
    "limit(f,n,oo)"
   ]
  },
  {
   "cell_type": "markdown",
   "metadata": {},
   "source": [
    "# Bailout 1\n",
    "> there is a lot of fancy terminalogy being thrown around, but the underlying concepts really aren't that fancy.\n",
    "> Assets that will give you the feature benefit.\n",
    "\n",
    "- Insolvency\n",
    "- illiquidity\n",
    "\n",
    "# Bailout 2 Booking Equity\n",
    "- commercial mortgages\n",
    "- residentail CDOs 住房债务抵押债券"
   ]
  },
  {
   "cell_type": "markdown",
   "metadata": {},
   "source": [
    "# Bailout 3 Booking Value & Market Value\n",
    "# Bailout 4 \n",
    "- Mark-to-Market\n",
    "- Mark-to-Model"
   ]
  },
  {
   "cell_type": "markdown",
   "metadata": {},
   "source": [
    "# Bailout 5 Settlement of Obligation\n",
    "# Bailout 6 Deleveraging\n",
    "> that's why the market price of something in the secondary markets where a share is just trading between peoplw who aren't related to the company, why that's important, because when the company needs to raise money, that is used as kind of the fair market value of a company's shares. (就用来作为公司股票的一种公平价格)\n",
    "\n",
    "Sovereign Wealth Fund (主权财富基金投资)"
   ]
  },
  {
   "cell_type": "markdown",
   "metadata": {},
   "source": [
    "# Bailout 7 Bankruptcy\n",
    "# Bailout 8 Systematic Risk "
   ]
  },
  {
   "cell_type": "markdown",
   "metadata": {},
   "source": [
    "# Bailout 9 Paulson’s plan\n",
    "https://www.jianshu.com/p/3efa42d8a2c1\n",
    "# Bailout 10 Moral Hazard"
   ]
  },
  {
   "cell_type": "markdown",
   "metadata": {},
   "source": [
    "# Credit Default Swap 1\n",
    "> 信用违约互换\n",
    "# Credit Default Swap 2\n",
    "> this is really the point that Warren Buffett wa saying that credit defaults swap market, in general, the derivative market are financial weapons of mass destruction."
   ]
  },
  {
   "cell_type": "markdown",
   "metadata": {},
   "source": [
    "# Savings/Consumption/Investment 1\n",
    "# Savings/Consumption/Investment 2"
   ]
  },
  {
   "cell_type": "markdown",
   "metadata": {},
   "source": [
    "# Bailout 11 Collateralized Debt Obligations\n",
    "# Bailout 12 Merrill Lynch\n",
    "https://open.163.com/movie/2011/9/R/V/M8DOH67K8_M8DQULJRV.html"
   ]
  },
  {
   "cell_type": "markdown",
   "metadata": {},
   "source": [
    "# Bailout 13 \n",
    "# How a housing bubble can lead to wealth destruction"
   ]
  },
  {
   "cell_type": "markdown",
   "metadata": {},
   "source": [
    "# How a housing bubble can lead to wealth destruction 2\n",
    "> short sale is when you sell sth for less than what you owe on it (亏本出售发生在你卖掉某物的价格少于你因此物而签下的债务的时候)\n",
    "# Bailout 14"
   ]
  },
  {
   "cell_type": "markdown",
   "metadata": {},
   "source": [
    "# Bailout 15\n",
    "# How a plain vanilla banks works"
   ]
  },
  {
   "cell_type": "markdown",
   "metadata": {},
   "source": [
    "# Banking Business 2\n",
    "# Banking Business 3\n",
    "multiplier effect happens whenever you have a fractional reserve system."
   ]
  },
  {
   "cell_type": "markdown",
   "metadata": {},
   "source": [
    "# Banking Business 4\n",
    "# Bankruptcy\n",
    "- debtor\n",
    "- creditor\n",
    "- chapter 7 straight bankruptcy\n",
    "- chapter 13 reorganization"
   ]
  },
  {
   "cell_type": "markdown",
   "metadata": {},
   "source": [
    "# Introduction to Compound Interest\n",
    "# Rule of 72"
   ]
  },
  {
   "cell_type": "code",
   "execution_count": 16,
   "metadata": {},
   "outputs": [],
   "source": [
    "import numpy as np\n",
    "import math\n",
    "X = np.arange(0.01,1,0.01)\n",
    "y = [math.log(2,1+X[i]) for i in range(len(X))]\n",
    "y_pred = [72/(100*X[i]) for i in range(len(X))]"
   ]
  },
  {
   "cell_type": "code",
   "execution_count": 26,
   "metadata": {
    "scrolled": true
   },
   "outputs": [
    {
     "data": {
      "text/plain": [
       "Text(0, 0.5, 'years')"
      ]
     },
     "execution_count": 26,
     "metadata": {},
     "output_type": "execute_result"
    },
    {
     "data": {
      "image/png": "[encoded data removed]",
      "text/plain": [
       "<Figure size 432x288 with 1 Axes>"
      ]
     },
     "metadata": {},
     "output_type": "display_data"
    }
   ],
   "source": [
    "import matplotlib.pyplot as plt\n",
    "%matplotlib inline\n",
    "plt.plot(X,y)\n",
    "plt.plot(X,y_pred)\n",
    "plt.xlabel('interest rate')\n",
    "plt.ylabel('years')"
   ]
  },
  {
   "cell_type": "markdown",
   "metadata": {},
   "source": [
    "# Annual Percentage Rate (APR) & EAR"
   ]
  },
  {
   "cell_type": "code",
   "execution_count": 6,
   "metadata": {},
   "outputs": [
    {
     "data": {
      "text/plain": [
       "0.026615373561135414"
      ]
     },
     "execution_count": 6,
     "metadata": {},
     "output_type": "execute_result"
    }
   ],
   "source": [
    "#https://www.jianshu.com/p/9ad131856078\n",
    "import numpy as np\n",
    "np.irr([-362.9,185.08,185.08])*(len([-362.9,185.08,185.08])-1)"
   ]
  },
  {
   "cell_type": "markdown",
   "metadata": {},
   "source": [
    "# Introduction to Bonds\n",
    "- 面值 face value/par value\n",
    "- 年息票率 annual coupon\n",
    "- the coupons tend to get paid semiannually"
   ]
  },
  {
   "cell_type": "markdown",
   "metadata": {},
   "source": [
    "# Relationship between Bond Prices & Interesr Rates"
   ]
  },
  {
   "cell_type": "markdown",
   "metadata": {},
   "source": [
    "# Introduction to Mortgage Loans\n",
    "\n",
    "This transferring of the title to secure a loan is technically what a mortgage is. This pledging of the title as the security for the load.\n",
    "https://cdn.kastatic.org/downloads/MortgageCalculator.xlsx\n"
   ]
  },
  {
   "cell_type": "markdown",
   "metadata": {},
   "source": [
    "# Traditional IRAs\n",
    "Individual Retirement Account\n",
    "# Roth IRAs"
   ]
  },
  {
   "cell_type": "markdown",
   "metadata": {},
   "source": [
    "# 401(k)\n",
    "\n",
    "very similar to Traditional IRAs; \n",
    "- 401k have higher limit\n",
    "- 401k  orgnized by employer\n",
    "    - employer will often specify the investments;\n",
    "    - employer might match (雇主可能会跟着你投钱)\n",
    "    - money will be taken out before your paycheck\n",
    "    - borrowing from 401k\n",
    "    \n",
    " `deferring taxes`you are not getting out of the taxes, you just pushing off the date that you're going to have to pay the taxes. For a lot of people this might be useful, because while you are making money, you might be paying at a fairly high incremental tax rate, but then once you are retired, you will have a much lower one. So your total overall tax bill might be lower. Also maybe something happens just in terms with what the government does in terms of how they charge taxes."
   ]
  },
  {
   "cell_type": "markdown",
   "metadata": {},
   "source": [
    "# Payday Loans\n",
    "# Institutional Roles in Issuing and Processing Credit Cards\n",
    "- Processors: Visa;MasterCard,American Express,Discover\n",
    "> they essentially maintain networks of IT(使信息网络能够正常运作) and policies that connect a bunch of banks together.\n",
    "http://open.163.com/movie/2011/9/0/B/M8DOH67K8_M8DR04R0B.html\n",
    "\n"
   ]
  },
  {
   "cell_type": "markdown",
   "metadata": {},
   "source": [
    "# Ponzi Scheme"
   ]
  },
  {
   "cell_type": "markdown",
   "metadata": {},
   "source": [
    "# Currencies market\n",
    "clearing price 清算价格\n",
    "more demand → price goes up\n",
    "# Trade Imbalance\n",
    "at current exchange 即期汇率\n",
    "how freely floating exchange rate can help equlize trade imbalance\n",
    "\n",
    "As one currency gets more and more expensive, the demand for exports from those countries are going to go down."
   ]
  },
  {
   "cell_type": "markdown",
   "metadata": {},
   "source": [
    "# Trade Imbalance 2\n",
    "# Fixed Exchange Rate"
   ]
  },
  {
   "cell_type": "markdown",
   "metadata": {},
   "source": [
    "# CCB Buy US Treasuries\n",
    "# CCB Buy US Treasuries 2\n",
    "> with more people willing to lend, the interest rate will get lower."
   ]
  },
  {
   "cell_type": "markdown",
   "metadata": {},
   "source": [
    "# Debt Cycle\n",
    "> debt being cheaper,lower interest rates stimulate the economy.\n",
    "Normally when you are stimulating the economy like this, you have the risk of higher inflation.\n",
    "# American Call Option"
   ]
  },
  {
   "cell_type": "markdown",
   "metadata": {},
   "source": [
    "# Short the Stock\n",
    "> bet the stock is going to go down; you sell the stock borrow from someone else(高卖低买); shorting is the riskest of all things you can do, cause a stock could go unbelivably high.\n",
    "\n",
    "# Put Option 看跌期权\n",
    "> Ameican variation. (低买高卖)"
   ]
  },
  {
   "cell_type": "markdown",
   "metadata": {},
   "source": [
    "# Option & Leverage\n",
    "# Short & Leverage"
   ]
  },
  {
   "cell_type": "markdown",
   "metadata": {},
   "source": [
    "# Payoff Diagrams of Call Option\n",
    "> Payoff diagrams are a way of decipicting what option or a set of options combined with other securities are worth at option expiration.\n",
    "汇报图是描绘期权或者一组齐全或者与其他证券相关的期权在到期日的价值的一种方法。\n",
    "# Payoff Diagrams of Put Option"
   ]
  },
  {
   "cell_type": "markdown",
   "metadata": {},
   "source": [
    "# Long Straddle 多头跨式组合\n",
    "> a long straddle you benefit from a major price movement. 预测未来股价有大幅波动，同时买入看涨期权和看跌期权。Going Long=Owning it (做多，即持有股票)\n",
    "# Stock + Put Option"
   ]
  },
  {
   "cell_type": "markdown",
   "metadata": {},
   "source": [
    "# `disappear`\n",
    "# Payoff Diagrams Put Option\n",
    "- Holder\n",
    "- Seller"
   ]
  },
  {
   "cell_type": "markdown",
   "metadata": {},
   "source": [
    "# Payoff Diagrams Call Option"
   ]
  },
  {
   "cell_type": "markdown",
   "metadata": {},
   "source": [
    "# Arbitrage\n",
    "> 买卖本质上相同的东西，赚的无风险的差价\n",
    "\n",
    "# N/A\n",
    "# N/A\n",
    "# N/A\n",
    "# Option Quotes 实际期权报价\n",
    "Open Interest 实际持仓量：有多少这样的期权合约实际存在\n",
    "# 期权到期和价格\n",
    "# Forward Contract 远期合约介绍\n",
    "# Futures 期权\n",
    "Standardized Forward Contract"
   ]
  },
  {
   "cell_type": "markdown",
   "metadata": {},
   "source": [
    "# Why Futures\n",
    "# How Margin works for futures contracts\n",
    "期货合约保证金\n",
    "# Margin Mechanics & Marking the Market\n",
    "\n"
   ]
  },
  {
   "cell_type": "markdown",
   "metadata": {},
   "source": [
    "# Futures Curve\n",
    "Normal Curves(upward sloping): if this wasnot upward sloping, there would actually be no reason for you to hold on to sth, if for future delivery date I'm getting lower & lower prices why don't I just sell now?\n",
    "\n",
    "# Contango 期货溢价\n",
    "> which means it's cheaper to buy that commodity on the sopt market.(在现货市场上购买商品更便宜，而使用期货或远期合约在未来买商品更贵)\n",
    "\n",
    "# Servere Contango\n",
    "> when the current sopt price is a lot lower than the futures price or the forward price. **A servere contango is a breaish signal** 严重期货溢价是一种看跌信号。\n"
   ]
  },
  {
   "cell_type": "markdown",
   "metadata": {},
   "source": [
    "# Backwardation 现货溢价\n",
    "> It costs more to buy whatever commodity they are talking about now. 高于期货合约中规定的未来交割价格。\n",
    "\n",
    "- **Bullish 看涨**\n",
    "- Bearish 看跌"
   ]
  },
  {
   "cell_type": "markdown",
   "metadata": {},
   "source": [
    "# Futures Curve 2\n",
    "# Contango 2\n",
    "> 期货的价格高于对未来价格的预期\n",
    "# Backwardation 2\n",
    "> 卖家愿意在未来以低于预期价格的价格出售；未来价格的预期高于期货价格。\n",
    "\n",
    "> 期货价格随时间的推移，逐渐想上汇入到现货价格"
   ]
  },
  {
   "cell_type": "markdown",
   "metadata": {},
   "source": [
    "# Contango vs. Backwardation\n",
    "# Forward Settlement Price\n",
    "# Forward Settlement Price 2\n"
   ]
  },
  {
   "cell_type": "markdown",
   "metadata": {},
   "source": [
    "# Arbitrage Futures Contract\n",
    "# Arbitrage Futures Contract 2"
   ]
  },
  {
   "cell_type": "markdown",
   "metadata": {},
   "source": [
    "# Cash Accounting\n",
    "# Accural Accounting"
   ]
  },
  {
   "cell_type": "markdown",
   "metadata": {},
   "source": [
    "# Cash vs. Accural\n",
    "# B/S sheet & P&l sheet"
   ]
  },
  {
   "cell_type": "markdown",
   "metadata": {},
   "source": [
    "# Cash Flow Statement\n",
    "# AP Increasement"
   ]
  },
  {
   "cell_type": "markdown",
   "metadata": {},
   "source": [
    "# Capitalize the expense\n",
    "# Depreciation"
   ]
  },
  {
   "cell_type": "markdown",
   "metadata": {},
   "source": [
    "# Depreciation in CashFlow\n",
    "# Amortization Depreciation\n",
    "- Depreciation\n",
    "- Amortization non-hard asset or financial asset; less tangible"
   ]
  },
  {
   "cell_type": "markdown",
   "metadata": {},
   "source": [
    "# Capital Structure\n",
    "# Market Cap."
   ]
  },
  {
   "cell_type": "markdown",
   "metadata": {},
   "source": [
    "# Market Cap. 2\n",
    "# LIBOR London inter bank offered rate\n",
    "> it is just an average of interest rates that banks are lending to each other. It is calculated by the British Bank Association. 它为各类证券和金融交易提供了一个参考利率。"
   ]
  },
  {
   "cell_type": "markdown",
   "metadata": {},
   "source": [
    "# Fair Value Accounting\n",
    "# Deductions"
   ]
  },
  {
   "cell_type": "markdown",
   "metadata": {},
   "source": [
    "# AMT Allternative Minimum Tax\n",
    "替代性最低税\n",
    "# Term life policy\n",
    "# Effective amount rate\n",
    "# Corporation\n",
    "- Limited Liability\n",
    "- Transferable Share Ownership 可转让的所有权份额"
   ]
  },
  {
   "cell_type": "markdown",
   "metadata": {},
   "source": [
    "# Fairness about limited liability & double-taxation\n",
    "- double-taxation\n",
    "    - C-corp\n",
    "- Non double-taxation\n",
    "    - S-corp\n",
    "    - LLC\n",
    "    - LP\n",
    "    - LLP\n",
    "\n",
    "# Mutual Fund"
   ]
  },
  {
   "cell_type": "markdown",
   "metadata": {},
   "source": [
    "# Open-ended Mutual Fund Redemption\n",
    "# Close-ended Mutual Fund\n",
    "- Can trade shares in secondary market"
   ]
  }
 ],
 "metadata": {
  "kernelspec": {
   "display_name": "Python 3",
   "language": "python",
   "name": "python3"
  },
  "language_info": {
   "codemirror_mode": {
    "name": "ipython",
    "version": 3
   },
   "file_extension": ".py",
   "mimetype": "text/x-python",
   "name": "python",
   "nbconvert_exporter": "python",
   "pygments_lexer": "ipython3",
   "version": "3.6.1"
  },
  "latex_envs": {
   "LaTeX_envs_menu_present": true,
   "autoclose": false,
   "autocomplete": true,
   "bibliofile": "biblio.bib",
   "cite_by": "apalike",
   "current_citInitial": 1,
   "eqLabelWithNumbers": true,
   "eqNumInitial": 1,
   "hotkeys": {
    "equation": "Ctrl-E",
    "itemize": "Ctrl-I"
   },
   "labels_anchors": false,
   "latex_user_defs": false,
   "report_style_numbering": false,
   "user_envs_cfg": false
  },
  "toc": {
   "nav_menu": {},
   "number_sections": true,
   "sideBar": true,
   "skip_h1_title": false,
   "toc_cell": false,
   "toc_position": {},
   "toc_section_display": true,
   "toc_window_display": false
  }
 },
 "nbformat": 4,
 "nbformat_minor": 2
}
