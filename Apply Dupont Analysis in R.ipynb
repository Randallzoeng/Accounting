{
 "cells": [
  {
   "cell_type": "markdown",
   "metadata": {},
   "source": [
    "<html>\n",
    "<body>\n",
    "<img src=\"http://upload.ouliu.net/i/201806251128591n574.png\"  align=\"right\" />\n",
    "</body>\n",
    "</html>"
   ]
  },
  {
   "cell_type": "markdown",
   "metadata": {},
   "source": [
    "# Get Original Report"
   ]
  },
  {
   "cell_type": "code",
   "execution_count": 1,
   "metadata": {
    "collapsed": true
   },
   "outputs": [],
   "source": [
    "# add some features so we can choose from incomestatements,balancesheet,statement of cashflow\n",
    "reportType = c('is','bs','cf')\n",
    "link_head = 'http://financials.morningstar.com/ajax/ReportProcess4CSV.html?&t='\n",
    "link_mid = '&region=usa&culture=en-US&version=SAL&cur=&reportType='\n",
    "link_tail = '&period=12&dataType=A&order=asc&columnYear=5&curYearPart=1st5year&rounding=3&view=raw&r=769236&denominatorView=raw&number=3'\n",
    "\n",
    "getfinrpt <- function(cik,rpt){\n",
    "    if(rpt=='income'){\n",
    "        links <- paste(link_head,cik,link_mid,reportType[1],link_tail,sep = \"\")\n",
    "    } else if (rpt=='balance'){\n",
    "        links <- paste(link_head,cik,link_mid,reportType[2],link_tail,sep = \"\")\n",
    "    } else if (rpt=='cash'){\n",
    "        links <- paste(link_head,cik,link_mid,reportType[3],link_tail,sep = \"\")\n",
    "    }\n",
    "    data <- read.csv2(links, sep=\",\",  header=FALSE,blank.lines.skip = FALSE,fill = TRUE,na.strings = \"NA\",stringsAsFactors = FALSE)\n",
    "    colnames <- c('category')\n",
    "    for (i in 2:(ncol(data)))\n",
    "    {\n",
    "    colnames[i] <- data[2,i]\n",
    "    }\n",
    "    df <- data.frame(data[3:nrow(data),1:ncol(data)],row.names = c(1:(nrow(data)-2)))\n",
    "    colnames(df) <- colnames\n",
    "    return(df)\n",
    "}"
   ]
  },
  {
   "cell_type": "code",
   "execution_count": 2,
   "metadata": {
    "collapsed": false,
    "scrolled": true
   },
   "outputs": [],
   "source": [
    "#testing\n",
    "income <- getfinrpt(cik = 'xnas:NFLX',rpt = 'income')\n",
    "balance <- getfinrpt(cik = 'xnas:NFLX',rpt = 'balance')\n",
    "cash <- getfinrpt(cik = 'xnas:NFLX',rpt = 'cash')"
   ]
  },
  {
   "cell_type": "markdown",
   "metadata": {},
   "source": [
    "# DuPont Analysis \n",
    "\n",
    "## What is DuPont Analysis\n",
    "[Accounting Analytics @ Coursera](https://www.coursera.org/learn/accounting-analytics/home)\n",
    "\n",
    "[Morning Star](https://www.morningstar.com/stocks/xnas/nflx/quote.html)\n",
    "\n",
    "I will use ratios below to analyze & hopefully make some reasonable forcast."
   ]
  },
  {
   "cell_type": "markdown",
   "metadata": {},
   "source": [
    "```r\n",
    "fin_ratios <- read.csv2('/Users/randall/Downloads/ChromeDownload/ratios.csv', \n",
    "                        sep=\",\",  header=FALSE,blank.lines.skip = FALSE,fill = TRUE,na.strings = \"NA\",stringsAsFactors = FALSE)\n",
    "\n",
    "colnames(fin_ratios) <- c('rations','equation')\n",
    "```"
   ]
  },
  {
   "cell_type": "markdown",
   "metadata": {},
   "source": [
    "![](http://upload.ouliu.net/i/20180619091012w5zzg.png)"
   ]
  },
  {
   "cell_type": "code",
   "execution_count": 3,
   "metadata": {
    "collapsed": false
   },
   "outputs": [
    {
     "data": {
      "text/html": [
       "<table>\n",
       "<thead><tr><th scope=col>category</th><th scope=col>2013-12</th><th scope=col>2014-12</th><th scope=col>2015-12</th><th scope=col>2016-12</th><th scope=col>2017-12</th></tr></thead>\n",
       "<tbody>\n",
       "\t<tr><td>Assets                   </td><td>                         </td><td>                         </td><td>                         </td><td>                         </td><td>                         </td></tr>\n",
       "\t<tr><td>Current assets           </td><td>                         </td><td>                         </td><td>                         </td><td>                         </td><td>                         </td></tr>\n",
       "\t<tr><td>Cash                     </td><td>                         </td><td>                         </td><td>                         </td><td>                         </td><td>                         </td></tr>\n",
       "\t<tr><td>Cash and cash equivalents</td><td>605                      </td><td>1114                     </td><td>1809                     </td><td>1468                     </td><td>2823                     </td></tr>\n",
       "\t<tr><td>Short-term investments   </td><td>595                      </td><td>495                      </td><td>501                      </td><td>266                      </td><td>                         </td></tr>\n",
       "\t<tr><td>Total cash               </td><td>1200                     </td><td>1608                     </td><td>2311                     </td><td>1734                     </td><td>2823                     </td></tr>\n",
       "</tbody>\n",
       "</table>\n"
      ],
      "text/latex": [
       "\\begin{tabular}{r|llllll}\n",
       " category & 2013-12 & 2014-12 & 2015-12 & 2016-12 & 2017-12\\\\\n",
       "\\hline\n",
       "\t Assets                    &                           &                           &                           &                           &                          \\\\\n",
       "\t Current assets            &                           &                           &                           &                           &                          \\\\\n",
       "\t Cash                      &                           &                           &                           &                           &                          \\\\\n",
       "\t Cash and cash equivalents & 605                       & 1114                      & 1809                      & 1468                      & 2823                     \\\\\n",
       "\t Short-term investments    & 595                       & 495                       & 501                       & 266                       &                          \\\\\n",
       "\t Total cash                & 1200                      & 1608                      & 2311                      & 1734                      & 2823                     \\\\\n",
       "\\end{tabular}\n"
      ],
      "text/markdown": [
       "\n",
       "category | 2013-12 | 2014-12 | 2015-12 | 2016-12 | 2017-12 | \n",
       "|---|---|---|---|---|---|\n",
       "| Assets                    |                           |                           |                           |                           |                           | \n",
       "| Current assets            |                           |                           |                           |                           |                           | \n",
       "| Cash                      |                           |                           |                           |                           |                           | \n",
       "| Cash and cash equivalents | 605                       | 1114                      | 1809                      | 1468                      | 2823                      | \n",
       "| Short-term investments    | 595                       | 495                       | 501                       | 266                       |                           | \n",
       "| Total cash                | 1200                      | 1608                      | 2311                      | 1734                      | 2823                      | \n",
       "\n",
       "\n"
      ],
      "text/plain": [
       "  category                  2013-12 2014-12 2015-12 2016-12 2017-12\n",
       "1 Assets                                                           \n",
       "2 Current assets                                                   \n",
       "3 Cash                                                             \n",
       "4 Cash and cash equivalents 605     1114    1809    1468    2823   \n",
       "5 Short-term investments    595     495     501     266            \n",
       "6 Total cash                1200    1608    2311    1734    2823   "
      ]
     },
     "metadata": {},
     "output_type": "display_data"
    }
   ],
   "source": [
    "#before we started, let's do some consolidation\n",
    "library(plyr)\n",
    "csld  <- rbind(balance, income[,1:6],cash[,1:6])\n",
    "head(csld)"
   ]
  },
  {
   "cell_type": "markdown",
   "metadata": {},
   "source": [
    "## Return on Equity\n",
    "- Return on Equity = Net Income / Avg. Stockholders' Equity"
   ]
  },
  {
   "cell_type": "code",
   "execution_count": 4,
   "metadata": {
    "collapsed": false
   },
   "outputs": [],
   "source": [
    "NetIncome <- as.numeric(c(csld[50,3:6]))\n",
    "StockholdersEquity <- as.numeric(csld[35,2:6])\n",
    "AvgStockholdersEquity <- c()\n",
    "\n",
    "for (i in 1:4){\n",
    "    AvgStockholdersEquity[i] <- 0.5*(StockholdersEquity[i]+StockholdersEquity[i+1])\n",
    "}\n",
    "\n",
    "ROE <- NetIncome/AvgStockholdersEquity"
   ]
  },
  {
   "cell_type": "markdown",
   "metadata": {},
   "source": [
    "### Financial Leverage"
   ]
  },
  {
   "cell_type": "markdown",
   "metadata": {},
   "source": [
    "- Return on Assets = De-levered Net Income / Avg. Total Assets\n",
    ">Noted:I will not de-levered NI income for now."
   ]
  },
  {
   "cell_type": "code",
   "execution_count": 5,
   "metadata": {
    "collapsed": false
   },
   "outputs": [],
   "source": [
    "TotalAssets <- as.numeric(csld[16,2:6])\n",
    "AvgTotalAssets<- c()\n",
    "\n",
    "for (i in 1:4){\n",
    "    AvgTotalAssets[i] <- 0.5*(TotalAssets[i]+TotalAssets[i+1])\n",
    "}\n",
    "\n",
    "ROA <- NetIncome/AvgTotalAssets"
   ]
  },
  {
   "cell_type": "markdown",
   "metadata": {},
   "source": [
    "- Financial Leverage = Avg. Total Assets / Avg. Stockholders’ Equity"
   ]
  },
  {
   "cell_type": "code",
   "execution_count": 6,
   "metadata": {
    "collapsed": true
   },
   "outputs": [],
   "source": [
    "FinancialLeverage <- AvgTotalAssets/AvgStockholdersEquity"
   ]
  },
  {
   "cell_type": "markdown",
   "metadata": {},
   "source": [
    "- Correction Factor = Net Income / De-levered Net Income\n",
    "- De-levered Net Income = Net Income + (Interest Exp. * (1 - Statutory Tax Rate))\n",
    "\n",
    "[Effective Tax Rates Can Differ Significantly from the Statutory Rate](https://www.gao.gov/products/GAO-13-520)"
   ]
  },
  {
   "cell_type": "markdown",
   "metadata": {},
   "source": [
    "### Return on Assets\n",
    "- Return on Sales =  De-levered Net Income / Sales \n",
    "- Asset turnover = Sales / Avg. Total Assets "
   ]
  },
  {
   "cell_type": "code",
   "execution_count": 7,
   "metadata": {
    "collapsed": true
   },
   "outputs": [],
   "source": [
    "Sales <- as.numeric(csld[37,3:6])\n",
    "ROS <- NetIncome / Sales \n",
    "AssetTurnover <- Sales / AvgTotalAssets"
   ]
  },
  {
   "cell_type": "markdown",
   "metadata": {},
   "source": [
    "#### Return on Sales\n",
    "##### Profitability\n",
    "\n",
    "- Gross Margin = (Sales - Cost of Goods Sold) / Sales \n",
    "- SGA as of Sales = SGA Expense / Sales \n",
    "- Operating Margin = Operating Income / Sales \n",
    "- Interest Expense as  of Sales = Interest Expense / Sales \n",
    "- Effective Tax Rate = Income Taxes / Pre-tax Income \n",
    "\n",
    "[How to Calculate the Effective Tax Rate of a Corporation](https://www.fool.com/knowledge-center/how-to-calculate-the-effective-tax-rate-of-a-corpo.aspx)\n",
    "\n",
    "[SEC FILINGS](https://www.sec.gov/Archives/edgar/data/1065280/000106528018000069/q4nflx201710k.htm#sE1D5BA7DC75D59B9843BA1F37B4C71EA)\n"
   ]
  },
  {
   "cell_type": "code",
   "execution_count": 8,
   "metadata": {
    "collapsed": true
   },
   "outputs": [],
   "source": [
    "GrossMargin  <-  as.numeric(csld[39,3:6]) / Sales"
   ]
  },
  {
   "cell_type": "code",
   "execution_count": 9,
   "metadata": {
    "collapsed": false
   },
   "outputs": [],
   "source": [
    "SGAasofSales <- as.numeric(csld[42,3:6]) / Sales"
   ]
  },
  {
   "cell_type": "code",
   "execution_count": 10,
   "metadata": {
    "collapsed": true
   },
   "outputs": [],
   "source": [
    "OperatingMargin <- as.numeric(csld[44,3:6]) / Sales"
   ]
  },
  {
   "cell_type": "code",
   "execution_count": 11,
   "metadata": {
    "collapsed": true
   },
   "outputs": [],
   "source": [
    "InterestExpenseasofSales <- as.numeric(csld[45,3:6]) / Sales"
   ]
  },
  {
   "cell_type": "code",
   "execution_count": 12,
   "metadata": {
    "collapsed": true
   },
   "outputs": [],
   "source": [
    "EffectiveTaxRate <- as.numeric(csld[48,3:6]) / as.numeric(csld[47,3:6]) "
   ]
  },
  {
   "cell_type": "markdown",
   "metadata": {},
   "source": [
    "##### Asset Turnover Ratios\t\t\n",
    "> NETFLIX receivables from members generally settle quickly and deferred revenue is a source of cash flow.\n",
    "\n",
    "- Accounts Receivables Turnover = Sales / Avg. Accounts Receivable\n",
    "- Inventory Turnover = Cost of Goods Sold / Avg. Inventory\n",
    "- Accounts Payable Turnover = Purchases / Avg. Accounts Payable\n",
    "- Fixed Asset Turnover = Sales / Avg. Net Property, Plant and Equipment\n",
    "\n",
    "- Accounts Receivables Turnover = Sales / Avg. Accounts Receivable\n",
    "- Accounts Payable Turnover = Purchases / Avg. Accounts Payable"
   ]
  },
  {
   "cell_type": "markdown",
   "metadata": {},
   "source": [
    "##### Days Turnover Ratios\t\t\n",
    "- Days Receivables =  365 * (Avg. Accounts Receivable / Sales)\n",
    "- Days Inventory = 365 * (Avg. Inventory / Cost of Goods Sold)\n",
    "- Days Payable = 365 * (Avg. Accounts Payable / Purchases)\n",
    "- Net Trade Cycle = Days Receivable + Days Inventory - Days Payable\n",
    "- Net Trade Cycle = Days Receivable + Days Inventory"
   ]
  },
  {
   "cell_type": "markdown",
   "metadata": {},
   "source": [
    "#### Liquidity Analysis\t\t\n",
    "- Current Ratio = Current Assets / Current Liabilities\n",
    "- Quick Ratio = (Cash + Accts Rec) / Current Liabilities\n",
    "- CFO-to-Current Liabilities = Cash from Operations / Avg. Current Laibilities\n",
    "\t\t\n",
    "- Interest Coverage = Operating Income before Depreciation / Interest Expense\n",
    "- Cash Interest Coverage = (Cash from Operations + Cash Interest + Cash Taxes) / Cash Interest Paid\n",
    "\t\t\n",
    "- Debt to Equity = Total Liabilities / Total Stockholders’ Equity\n",
    "- Long-Term-Debt to Equity = Total Long-Term Debt / Total Stockholders’ Equity\n",
    "- Long-Term Debt to Tangible Assets = Total Long-Term Debt / (Total Assets - Intangible Assets)"
   ]
  },
  {
   "cell_type": "code",
   "execution_count": 13,
   "metadata": {
    "collapsed": true
   },
   "outputs": [],
   "source": [
    "CurrentRatio  <- as.numeric(csld[8,3:6]) / as.numeric(csld[24,3:6])"
   ]
  },
  {
   "cell_type": "code",
   "execution_count": 14,
   "metadata": {
    "collapsed": true
   },
   "outputs": [],
   "source": [
    "QuickRatio <- as.numeric(csld[4,3:6]) / as.numeric(csld[24,3:6])"
   ]
  },
  {
   "cell_type": "code",
   "execution_count": 15,
   "metadata": {
    "collapsed": false
   },
   "outputs": [],
   "source": [
    "CurrentLaibilities <- as.numeric(csld[24,2:6])\n",
    "AvgCurrentLaibilities <- c()\n",
    "\n",
    "for (i in 1:4){\n",
    "    AvgCurrentLaibilities[i] <- 0.5*(CurrentLaibilities[i]+CurrentLaibilities[i+1])\n",
    "}\n",
    "\n",
    "CFOtoCurrentLiabilities <- as.numeric(csld[70,3:6]) / AvgCurrentLaibilities"
   ]
  },
  {
   "cell_type": "code",
   "execution_count": 16,
   "metadata": {
    "collapsed": true
   },
   "outputs": [],
   "source": [
    "DebttoEquity <- as.numeric(csld[29,3:6]) / as.numeric(csld[35,3:6])"
   ]
  },
  {
   "cell_type": "code",
   "execution_count": 17,
   "metadata": {
    "collapsed": false
   },
   "outputs": [],
   "source": [
    "LTDebttoEquity <- as.numeric(csld[26,3:6]) / as.numeric(csld[35,3:6])"
   ]
  },
  {
   "cell_type": "markdown",
   "metadata": {},
   "source": [
    "## Other Information\t\t\n",
    "- Sales Growth = Change in Sales / Prior Year Sales\n",
    "- Federal Statutory Rate + State and Foreign Statutory Rates (excludes permanent differences)\n",
    "- De-levered Net Income = Net Income + (Interest Exp. * (1 - Statutory Tax Rate))\n",
    "- Purchases = Ending Inventory + COGS – Beginning Inventory\n",
    "- Weighted Avg Depreciation Rate = Depreciation  Amortization / (Avg. Gross PPE + Avg. Intangible Assets)\n",
    "- Weighted Avg Interest Rate = Interest Expense / Avg. Long-Term Debt"
   ]
  },
  {
   "cell_type": "code",
   "execution_count": 18,
   "metadata": {
    "collapsed": false
   },
   "outputs": [],
   "source": [
    "SalesGrowth <- c()\n",
    "\n",
    "for (i in 1:4){\n",
    "    SalesGrowth[i] <- (as.numeric(csld[37,i+2]) - as.numeric(csld[37,i+1]))/as.numeric(csld[37,i+1])\n",
    "}"
   ]
  },
  {
   "cell_type": "code",
   "execution_count": 19,
   "metadata": {
    "collapsed": false,
    "scrolled": true
   },
   "outputs": [
    {
     "data": {
      "text/html": [
       "<table>\n",
       "<thead><tr><th scope=col>Year</th><th scope=col>ROE</th><th scope=col>ROA</th><th scope=col>FinancialLeverage</th><th scope=col>ROS</th><th scope=col>AssetTurnover</th><th scope=col>GrossMargin</th><th scope=col>SGAasofSales</th><th scope=col>OperatingMargin</th><th scope=col>InterestExpenseasofSales</th><th scope=col>EffectiveTaxRate</th><th scope=col>CurrentRatio</th><th scope=col>QuickRatio</th><th scope=col>CFOtoCurrentLiabilities</th><th scope=col>DebttoEquity</th><th scope=col>LTDebttoEquity</th><th scope=col>SalesGrowth</th></tr></thead>\n",
       "<tbody>\n",
       "\t<tr><td>2014        </td><td>0.16729323  </td><td>0.04282277  </td><td>3.906642    </td><td>0.04850136  </td><td>0.8829190   </td><td>0.3182561   </td><td>0.1593097   </td><td>0.07320618  </td><td>0.009082652 </td><td> 0.2378223  </td><td>1.479534    </td><td>0.4183252   </td><td> 0.006643139</td><td>2.798170    </td><td>0.4843918   </td><td>0.2582857   </td></tr>\n",
       "\t<tr><td>2015        </td><td>0.06027934  </td><td>0.01425261  </td><td>4.229356    </td><td>0.01814159  </td><td>0.7856315   </td><td>0.3227139   </td><td>0.1815634   </td><td>0.04513274  </td><td>0.024188791 </td><td> 0.1338028  </td><td>1.538810    </td><td>0.5124646   </td><td>-0.241886000</td><td>3.589294    </td><td>1.0665767   </td><td>0.2316076   </td></tr>\n",
       "\t<tr><td>2016        </td><td>0.07627983  </td><td>0.01572089  </td><td>4.852131    </td><td>0.02117540  </td><td>0.7424128   </td><td>0.3171781   </td><td>0.1776696   </td><td>0.04303023  </td><td>0.016985619 </td><td> 0.2835249  </td><td>1.247002    </td><td>0.3200349   </td><td>-0.363188370</td><td>4.069776    </td><td>1.2552239   </td><td>0.3025074   </td></tr>\n",
       "\t<tr><td>2017        </td><td>0.17853721  </td><td>0.03429448  </td><td>5.206004    </td><td>0.04780638  </td><td>0.7173620   </td><td>0.3449072   </td><td>0.1831865   </td><td>0.07175233  </td><td>0.020354058 </td><td>-0.1525773  </td><td>1.403220    </td><td>0.5164654   </td><td>-0.355316821</td><td>4.307929    </td><td>1.8143495   </td><td>0.3240856   </td></tr>\n",
       "</tbody>\n",
       "</table>\n"
      ],
      "text/latex": [
       "\\begin{tabular}{r|lllllllllllllllll}\n",
       " Year & ROE & ROA & FinancialLeverage & ROS & AssetTurnover & GrossMargin & SGAasofSales & OperatingMargin & InterestExpenseasofSales & EffectiveTaxRate & CurrentRatio & QuickRatio & CFOtoCurrentLiabilities & DebttoEquity & LTDebttoEquity & SalesGrowth\\\\\n",
       "\\hline\n",
       "\t 2014         & 0.16729323   & 0.04282277   & 3.906642     & 0.04850136   & 0.8829190    & 0.3182561    & 0.1593097    & 0.07320618   & 0.009082652  &  0.2378223   & 1.479534     & 0.4183252    &  0.006643139 & 2.798170     & 0.4843918    & 0.2582857   \\\\\n",
       "\t 2015         & 0.06027934   & 0.01425261   & 4.229356     & 0.01814159   & 0.7856315    & 0.3227139    & 0.1815634    & 0.04513274   & 0.024188791  &  0.1338028   & 1.538810     & 0.5124646    & -0.241886000 & 3.589294     & 1.0665767    & 0.2316076   \\\\\n",
       "\t 2016         & 0.07627983   & 0.01572089   & 4.852131     & 0.02117540   & 0.7424128    & 0.3171781    & 0.1776696    & 0.04303023   & 0.016985619  &  0.2835249   & 1.247002     & 0.3200349    & -0.363188370 & 4.069776     & 1.2552239    & 0.3025074   \\\\\n",
       "\t 2017         & 0.17853721   & 0.03429448   & 5.206004     & 0.04780638   & 0.7173620    & 0.3449072    & 0.1831865    & 0.07175233   & 0.020354058  & -0.1525773   & 1.403220     & 0.5164654    & -0.355316821 & 4.307929     & 1.8143495    & 0.3240856   \\\\\n",
       "\\end{tabular}\n"
      ],
      "text/markdown": [
       "\n",
       "Year | ROE | ROA | FinancialLeverage | ROS | AssetTurnover | GrossMargin | SGAasofSales | OperatingMargin | InterestExpenseasofSales | EffectiveTaxRate | CurrentRatio | QuickRatio | CFOtoCurrentLiabilities | DebttoEquity | LTDebttoEquity | SalesGrowth | \n",
       "|---|---|---|---|\n",
       "| 2014         | 0.16729323   | 0.04282277   | 3.906642     | 0.04850136   | 0.8829190    | 0.3182561    | 0.1593097    | 0.07320618   | 0.009082652  |  0.2378223   | 1.479534     | 0.4183252    |  0.006643139 | 2.798170     | 0.4843918    | 0.2582857    | \n",
       "| 2015         | 0.06027934   | 0.01425261   | 4.229356     | 0.01814159   | 0.7856315    | 0.3227139    | 0.1815634    | 0.04513274   | 0.024188791  |  0.1338028   | 1.538810     | 0.5124646    | -0.241886000 | 3.589294     | 1.0665767    | 0.2316076    | \n",
       "| 2016         | 0.07627983   | 0.01572089   | 4.852131     | 0.02117540   | 0.7424128    | 0.3171781    | 0.1776696    | 0.04303023   | 0.016985619  |  0.2835249   | 1.247002     | 0.3200349    | -0.363188370 | 4.069776     | 1.2552239    | 0.3025074    | \n",
       "| 2017         | 0.17853721   | 0.03429448   | 5.206004     | 0.04780638   | 0.7173620    | 0.3449072    | 0.1831865    | 0.07175233   | 0.020354058  | -0.1525773   | 1.403220     | 0.5164654    | -0.355316821 | 4.307929     | 1.8143495    | 0.3240856    | \n",
       "\n",
       "\n"
      ],
      "text/plain": [
       "  Year ROE        ROA        FinancialLeverage ROS        AssetTurnover\n",
       "1 2014 0.16729323 0.04282277 3.906642          0.04850136 0.8829190    \n",
       "2 2015 0.06027934 0.01425261 4.229356          0.01814159 0.7856315    \n",
       "3 2016 0.07627983 0.01572089 4.852131          0.02117540 0.7424128    \n",
       "4 2017 0.17853721 0.03429448 5.206004          0.04780638 0.7173620    \n",
       "  GrossMargin SGAasofSales OperatingMargin InterestExpenseasofSales\n",
       "1 0.3182561   0.1593097    0.07320618      0.009082652             \n",
       "2 0.3227139   0.1815634    0.04513274      0.024188791             \n",
       "3 0.3171781   0.1776696    0.04303023      0.016985619             \n",
       "4 0.3449072   0.1831865    0.07175233      0.020354058             \n",
       "  EffectiveTaxRate CurrentRatio QuickRatio CFOtoCurrentLiabilities DebttoEquity\n",
       "1  0.2378223       1.479534     0.4183252   0.006643139            2.798170    \n",
       "2  0.1338028       1.538810     0.5124646  -0.241886000            3.589294    \n",
       "3  0.2835249       1.247002     0.3200349  -0.363188370            4.069776    \n",
       "4 -0.1525773       1.403220     0.5164654  -0.355316821            4.307929    \n",
       "  LTDebttoEquity SalesGrowth\n",
       "1 0.4843918      0.2582857  \n",
       "2 1.0665767      0.2316076  \n",
       "3 1.2552239      0.3025074  \n",
       "4 1.8143495      0.3240856  "
      ]
     },
     "metadata": {},
     "output_type": "display_data"
    }
   ],
   "source": [
    "#Combine the ratio tables\n",
    "\n",
    "ratios <- data.frame(Year = c('2014','2015','2016','2017'),ROE,ROA,FinancialLeverage,ROS,AssetTurnover,GrossMargin,SGAasofSales,\n",
    "                     OperatingMargin,InterestExpenseasofSales,EffectiveTaxRate,\n",
    "                     CurrentRatio,QuickRatio,CFOtoCurrentLiabilities,DebttoEquity,LTDebttoEquity,SalesGrowth)\n",
    "\n",
    "ratios"
   ]
  },
  {
   "cell_type": "markdown",
   "metadata": {},
   "source": [
    "## Vis"
   ]
  },
  {
   "cell_type": "code",
   "execution_count": 20,
   "metadata": {
    "collapsed": false
   },
   "outputs": [],
   "source": [
    "library(ggplot2)\n",
    "library(ggthemes)\n",
    "windowsFonts(YaHei=windowsFont(\"微软雅黑\") )"
   ]
  },
  {
   "cell_type": "code",
   "execution_count": 21,
   "metadata": {
    "collapsed": false
   },
   "outputs": [],
   "source": [
    "plot_function <- function(data,x,y,col,size,title){\n",
    "    p<- ggplot(data,mapping = aes(x=x,y=y))+\n",
    "    geom_bar(stat = 'identity', fill=col, colour=col)+\n",
    "    scale_y_continuous(breaks=NULL)+\n",
    "    theme_wsj(title_family = \"YaHei\",base_family =\"YaHei\",base_size = size)+\n",
    "    ggtitle(title)\n",
    "    return(p)\n",
    "}"
   ]
  },
  {
   "cell_type": "code",
   "execution_count": 22,
   "metadata": {
    "collapsed": false
   },
   "outputs": [],
   "source": [
    "p1 <- plot_function(data=ratios,x=ratios$Year,y=ratios$ROE,col=\"#ff5a57\",title=\"Netflix ROE\",size=10)\n",
    "p2 <- plot_function(data=ratios,x=ratios$Year,y=ratios$ROA,col=\"#5380e4\",title=\"ROA\",size=8)\n",
    "p3 <- plot_function(data=ratios,x=ratios$Year,y=ratios$FinancialLeverage,col=\"#938dd2\",title=\"Leverage\",size=8)\n",
    "p4 <- plot_function(data=ratios,x=ratios$Year,y=ratios$ROS,col=\"#55acee\",title=\"ROS\",size=6)\n",
    "p5 <- plot_function(data=ratios,x=ratios$Year,y=ratios$AssetTurnover,col=\"#82c0e9\",title=\"Turnover\",size=6)\n",
    "p6 <- plot_function(data=ratios,x=ratios$Year,y=ratios$DebttoEquity,col=\"#ffb400\",title=\"DtoE\",size=6)\n",
    "p7 <- plot_function(data=ratios,x=ratios$Year,y=ratios$LTDebttoEquity,col=\"#ffaa91\",title=\"LTDtoE\",size=6)"
   ]
  },
  {
   "cell_type": "code",
   "execution_count": 23,
   "metadata": {
    "collapsed": false,
    "scrolled": true
   },
   "outputs": [
    {
     "data": {
      "image/png": "[encoded data removed]",
      "text/plain": [
       "plot without title"
      ]
     },
     "metadata": {},
     "output_type": "display_data"
    }
   ],
   "source": [
    "library(gridExtra)\n",
    "grid.arrange(p1,p2,p3, layout_matrix = rbind(c(1,1),c(2,3)))"
   ]
  },
  {
   "cell_type": "code",
   "execution_count": 24,
   "metadata": {
    "collapsed": false,
    "scrolled": true
   },
   "outputs": [
    {
     "data": {
      "image/png": "[encoded data removed]",
      "text/plain": [
       "plot without title"
      ]
     },
     "metadata": {},
     "output_type": "display_data"
    }
   ],
   "source": [
    "grid.arrange(p2,p4,p5, layout_matrix = rbind(c(1,1),c(2,3)))"
   ]
  },
  {
   "cell_type": "code",
   "execution_count": 25,
   "metadata": {
    "collapsed": false,
    "scrolled": false
   },
   "outputs": [
    {
     "data": {
      "image/png": "[encoded data removed]",
      "text/plain": [
       "plot without title"
      ]
     },
     "metadata": {},
     "output_type": "display_data"
    }
   ],
   "source": [
    "grid.arrange(p3,p6,p7, layout_matrix = rbind(c(1,1),c(2,3)))"
   ]
  },
  {
   "cell_type": "markdown",
   "metadata": {},
   "source": [
    "## Simple Analysis\n",
    "Reference: [Netflix 是怎样的一家公司](https://www.zhihu.com/question/19552101/answer/114867581)"
   ]
  },
  {
   "cell_type": "markdown",
   "metadata": {},
   "source": [
    "### Operation and Financial Risk"
   ]
  },
  {
   "cell_type": "code",
   "execution_count": 26,
   "metadata": {
    "collapsed": false,
    "scrolled": true
   },
   "outputs": [
    {
     "data": {
      "text/html": [
       "<table>\n",
       "<thead><tr><th></th><th scope=col>category</th><th scope=col>2013-12</th><th scope=col>2014-12</th><th scope=col>2015-12</th><th scope=col>2016-12</th><th scope=col>2017-12</th></tr></thead>\n",
       "<tbody>\n",
       "\t<tr><th scope=row>44</th><td>Operating income</td><td>228             </td><td>403             </td><td>306             </td><td>380             </td><td>839             </td></tr>\n",
       "</tbody>\n",
       "</table>\n"
      ],
      "text/latex": [
       "\\begin{tabular}{r|llllll}\n",
       "  & category & 2013-12 & 2014-12 & 2015-12 & 2016-12 & 2017-12\\\\\n",
       "\\hline\n",
       "\t44 & Operating income & 228              & 403              & 306              & 380              & 839             \\\\\n",
       "\\end{tabular}\n"
      ],
      "text/markdown": [
       "\n",
       "| <!--/--> | category | 2013-12 | 2014-12 | 2015-12 | 2016-12 | 2017-12 | \n",
       "|---|\n",
       "| 44 | Operating income | 228              | 403              | 306              | 380              | 839              | \n",
       "\n",
       "\n"
      ],
      "text/plain": [
       "   category         2013-12 2014-12 2015-12 2016-12 2017-12\n",
       "44 Operating income 228     403     306     380     839    "
      ]
     },
     "metadata": {},
     "output_type": "display_data"
    },
    {
     "name": "stdout",
     "output_type": "stream",
     "text": [
      "[1] \"EBIT  of 2017 improved by\"\n"
     ]
    },
    {
     "data": {
      "text/html": [
       "120.789473684211"
      ],
      "text/latex": [
       "120.789473684211"
      ],
      "text/markdown": [
       "120.789473684211"
      ],
      "text/plain": [
       "[1] 120.7895"
      ]
     },
     "metadata": {},
     "output_type": "display_data"
    }
   ],
   "source": [
    "#as I am not a  Premium membership with Morningstar, so let just check std of EBIT and EBITDA for 5yrs \n",
    "csld[44,]\n",
    "print ('EBIT  of 2017 improved by' )\n",
    "(as.numeric(csld[44,6])-as.numeric(csld[44,5]))/as.numeric(csld[44,5]) *100"
   ]
  },
  {
   "cell_type": "code",
   "execution_count": 27,
   "metadata": {
    "collapsed": false
   },
   "outputs": [
    {
     "name": "stdout",
     "output_type": "stream",
     "text": [
      "[1] \"Basic EPS  of 2017 improved by\"\n"
     ]
    },
    {
     "data": {
      "text/html": [
       "193.181818181818"
      ],
      "text/latex": [
       "193.181818181818"
      ],
      "text/markdown": [
       "193.181818181818"
      ],
      "text/plain": [
       "[1] 193.1818"
      ]
     },
     "metadata": {},
     "output_type": "display_data"
    }
   ],
   "source": [
    "print ('Basic EPS  of 2017 improved by' )\n",
    "(as.numeric(csld[53,6])-as.numeric(csld[53,5]))/as.numeric(csld[53,5]) *100"
   ]
  },
  {
   "cell_type": "code",
   "execution_count": 28,
   "metadata": {
    "collapsed": false,
    "scrolled": true
   },
   "outputs": [
    {
     "data": {
      "text/html": [
       "<table>\n",
       "<thead><tr><th></th><th scope=col>category</th><th scope=col>2013-12</th><th scope=col>2014-12</th><th scope=col>2015-12</th><th scope=col>2016-12</th><th scope=col>2017-12</th></tr></thead>\n",
       "<tbody>\n",
       "\t<tr><th scope=row>70</th><td>Net cash provided by operating activities</td><td>98                                       </td><td>16                                       </td><td>-749                                     </td><td>-1474                                    </td><td>-1786                                    </td></tr>\n",
       "</tbody>\n",
       "</table>\n"
      ],
      "text/latex": [
       "\\begin{tabular}{r|llllll}\n",
       "  & category & 2013-12 & 2014-12 & 2015-12 & 2016-12 & 2017-12\\\\\n",
       "\\hline\n",
       "\t70 & Net cash provided by operating activities & 98                                        & 16                                        & -749                                      & -1474                                     & -1786                                    \\\\\n",
       "\\end{tabular}\n"
      ],
      "text/markdown": [
       "\n",
       "| <!--/--> | category | 2013-12 | 2014-12 | 2015-12 | 2016-12 | 2017-12 | \n",
       "|---|\n",
       "| 70 | Net cash provided by operating activities | 98                                        | 16                                        | -749                                      | -1474                                     | -1786                                     | \n",
       "\n",
       "\n"
      ],
      "text/plain": [
       "   category                                  2013-12 2014-12 2015-12 2016-12\n",
       "70 Net cash provided by operating activities 98      16      -749    -1474  \n",
       "   2017-12\n",
       "70 -1786  "
      ]
     },
     "metadata": {},
     "output_type": "display_data"
    }
   ],
   "source": [
    "#Net cash provided by operating activities\n",
    "csld[70,]"
   ]
  },
  {
   "cell_type": "markdown",
   "metadata": {},
   "source": [
    "#### Streaming content assets\n",
    "unfortunately, we cannot see the **Streaming content assets** and someother important content from report provided by MorningStar, so I went to \n",
    "https://ir.netflix.com to check 2018 Q1 report. \n",
    "Will stop from here for the time being."
   ]
  },
  {
   "cell_type": "markdown",
   "metadata": {},
   "source": [
    "# SBUX\n",
    "\n",
    "> ignore for now, just testing getfinrpt function"
   ]
  },
  {
   "cell_type": "code",
   "execution_count": 29,
   "metadata": {
    "collapsed": false
   },
   "outputs": [
    {
     "ename": "ERROR",
     "evalue": "Error in read.table(file = file, header = header, sep = sep, quote = quote, : no lines available in input\n",
     "output_type": "error",
     "traceback": [
      "Error in read.table(file = file, header = header, sep = sep, quote = quote, : no lines available in input\nTraceback:\n",
      "1. getfinrpt(cik = \"SBUX\", rpt = \"income\")",
      "2. read.csv2(links, sep = \",\", header = FALSE, blank.lines.skip = FALSE, \n .     fill = TRUE, na.strings = \"NA\", stringsAsFactors = FALSE)   # at line 15 of file <text>",
      "3. read.table(file = file, header = header, sep = sep, quote = quote, \n .     dec = dec, fill = fill, comment.char = comment.char, ...)",
      "4. stop(\"no lines available in input\")"
     ]
    }
   ],
   "source": [
    "#testing\n",
    "income_SBUX <- getfinrpt(cik = 'SBUX',rpt = 'income')\n",
    "balance_SBUX <- getfinrpt(cik = 'SBUX',rpt = 'balance')\n",
    "cash_SBUX <- getfinrpt(cik = 'SBUX',rpt = 'cash')"
   ]
  },
  {
   "cell_type": "code",
   "execution_count": null,
   "metadata": {
    "collapsed": false
   },
   "outputs": [],
   "source": [
    "library(plyr)\n",
    "csld_SBUX <- rbind(balance_SBUX, income_SBUX[,1:6],cash_SBUX[,1:6])"
   ]
  },
  {
   "cell_type": "code",
   "execution_count": null,
   "metadata": {
    "collapsed": false,
    "scrolled": true
   },
   "outputs": [],
   "source": [
    "head(csld_SBUX )"
   ]
  },
  {
   "cell_type": "markdown",
   "metadata": {},
   "source": [
    "```r\n",
    "t1 <- cbind('2014',row.names(t(ratios[1,2:17])),t(ratios[1,2:17]))\n",
    "colnames(t1) <- c('year','category','ratio')\n",
    "row.names(t1) <- NULL\n",
    "\n",
    "t2 <- cbind('2015',row.names(t(ratios[2,2:17])),t(ratios[2,2:17]))\n",
    "colnames(t2) <- NULL\n",
    "row.names(t2) <- NULL\n",
    "\n",
    "t3 <- cbind('2016',row.names(t(ratios[3,2:17])),t(ratios[3,2:17]))\n",
    "colnames(t3) <- NULL\n",
    "row.names(t3) <- NULL\n",
    "\n",
    "t4 <- cbind('2017',row.names(t(ratios[4,2:17])),t(ratios[4,2:17]))\n",
    "colnames(t4) <- NULL\n",
    "row.names(t4) <- NULL\n",
    "\n",
    "df <- as.data.frame(rbind(t1,t2,t3,t4),stringsAsFactors = FALSE)\n",
    "\n",
    "```"
   ]
  },
  {
   "cell_type": "markdown",
   "metadata": {},
   "source": [
    "```r\n",
    "ggplot(ratios, mapping = aes(x = Year, y = ROE)) + \n",
    "geom_bar(stat = 'identity', fill=\"#ff5a57\", colour=\"#ff5a57\") + \n",
    "scale_y_continuous(breaks=NULL) + \n",
    "theme_wsj(title_family = \"YaHei\",base_family =\"YaHei\",base_size = 10)+ \n",
    "ggtitle(\"Netflix ROE\")+geom_text(aes(label=round(ROE,4)*100), color=\"white\",vjust = 1)\n",
    "```"
   ]
  }
 ],
 "metadata": {
  "anaconda-cloud": {},
  "kernelspec": {
   "display_name": "R",
   "language": "R",
   "name": "ir"
  },
  "language_info": {
   "codemirror_mode": "r",
   "file_extension": ".r",
   "mimetype": "text/x-r-source",
   "name": "R",
   "pygments_lexer": "r",
   "version": "3.5.0"
  },
  "latex_envs": {
   "LaTeX_envs_menu_present": true,
   "autocomplete": true,
   "bibliofile": "biblio.bib",
   "cite_by": "apalike",
   "current_citInitial": 1,
   "eqLabelWithNumbers": true,
   "eqNumInitial": 1,
   "hotkeys": {
    "equation": "Ctrl-E",
    "itemize": "Ctrl-I"
   },
   "labels_anchors": false,
   "latex_user_defs": false,
   "report_style_numbering": false,
   "user_envs_cfg": false
  },
  "toc": {
   "base_numbering": 1,
   "nav_menu": {},
   "number_sections": true,
   "sideBar": true,
   "skip_h1_title": false,
   "title_cell": "Table of Contents",
   "title_sidebar": "Contents",
   "toc_cell": false,
   "toc_position": {
    "height": "calc(100% - 180px)",
    "left": "10px",
    "top": "150px",
    "width": "384px"
   },
   "toc_section_display": "block",
   "toc_window_display": false
  }
 },
 "nbformat": 4,
 "nbformat_minor": 2
}
