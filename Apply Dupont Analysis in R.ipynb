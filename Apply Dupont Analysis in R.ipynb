{
 "cells": [
  {
   "cell_type": "markdown",
   "metadata": {},
   "source": [
    "# Get Original Report"
   ]
  },
  {
   "cell_type": "code",
   "execution_count": 1,
   "metadata": {
    "collapsed": true
   },
   "outputs": [],
   "source": [
    "# add some features so we can choose from incomestatements,balancesheet,statement of cashflow\n",
    "reportType = c('is','bs','cf')\n",
    "link_head = 'http://financials.morningstar.com/ajax/ReportProcess4CSV.html?&t='\n",
    "link_mid = '&region=usa&culture=en-US&version=SAL&cur=&reportType='\n",
    "link_tail = '&period=12&dataType=A&order=asc&columnYear=5&curYearPart=1st5year&rounding=3&view=raw&r=769236&denominatorView=raw&number=3'\n",
    "\n",
    "getfinrpt <- function(cik,rpt){\n",
    "    if(rpt=='income'){\n",
    "        links <- paste(link_head,cik,link_mid,reportType[1],link_tail,sep = \"\")\n",
    "    } else if (rpt=='balance'){\n",
    "        links <- paste(link_head,cik,link_mid,reportType[2],link_tail,sep = \"\")\n",
    "    } else if (rpt=='cash'){\n",
    "        links <- paste(link_head,cik,link_mid,reportType[3],link_tail,sep = \"\")\n",
    "    }\n",
    "    data <- read.csv2(links, sep=\",\",  header=FALSE,blank.lines.skip = FALSE,fill = TRUE,na.strings = \"NA\",stringsAsFactors = FALSE)\n",
    "    colnames <- c('category')\n",
    "    for (i in 2:(ncol(data)))\n",
    "    {\n",
    "    colnames[i] <- data[2,i]\n",
    "    }\n",
    "    df <- data.frame(data[3:nrow(data),1:ncol(data)],row.names = c(1:(nrow(data)-2)))\n",
    "    colnames(df) <- colnames\n",
    "    return(df)\n",
    "}"
   ]
  },
  {
   "cell_type": "code",
   "execution_count": 2,
   "metadata": {
    "collapsed": false,
    "scrolled": true
   },
   "outputs": [],
   "source": [
    "#testing\n",
    "income <- getfinrpt(cik = 'xnas:NFLX',rpt = 'income')\n",
    "balance <- getfinrpt(cik = 'xnas:NFLX',rpt = 'balance')\n",
    "cash <- getfinrpt(cik = 'xnas:NFLX',rpt = 'cash')"
   ]
  },
  {
   "cell_type": "markdown",
   "metadata": {},
   "source": [
    "# DuPont Analysis \n",
    "\n",
    "## What is DuPont Analysis\n",
    "[Accounting Analytics @ Coursera](https://www.coursera.org/learn/accounting-analytics/home)\n",
    "\n",
    "I will use ratios below to analyze & hopefully make some reasonable forcast."
   ]
  },
  {
   "cell_type": "markdown",
   "metadata": {},
   "source": [
    "```r\n",
    "fin_ratios <- read.csv2('/Users/randall/Downloads/ChromeDownload/ratios.csv', \n",
    "                        sep=\",\",  header=FALSE,blank.lines.skip = FALSE,fill = TRUE,na.strings = \"NA\",stringsAsFactors = FALSE)\n",
    "\n",
    "colnames(fin_ratios) <- c('rations','equation')\n",
    "```"
   ]
  },
  {
   "cell_type": "markdown",
   "metadata": {},
   "source": [
    "![](http://upload.ouliu.net/i/20180619091012w5zzg.png)"
   ]
  },
  {
   "cell_type": "code",
   "execution_count": 3,
   "metadata": {
    "collapsed": false,
    "scrolled": true
   },
   "outputs": [
    {
     "data": {
      "text/html": [
       "<ol class=list-inline>\n",
       "\t<li>'category'</li>\n",
       "\t<li>'2013-12'</li>\n",
       "\t<li>'2014-12'</li>\n",
       "\t<li>'2015-12'</li>\n",
       "\t<li>'2016-12'</li>\n",
       "\t<li>'2017-12'</li>\n",
       "</ol>\n"
      ],
      "text/latex": [
       "\\begin{enumerate*}\n",
       "\\item 'category'\n",
       "\\item '2013-12'\n",
       "\\item '2014-12'\n",
       "\\item '2015-12'\n",
       "\\item '2016-12'\n",
       "\\item '2017-12'\n",
       "\\end{enumerate*}\n"
      ],
      "text/markdown": [
       "1. 'category'\n",
       "2. '2013-12'\n",
       "3. '2014-12'\n",
       "4. '2015-12'\n",
       "5. '2016-12'\n",
       "6. '2017-12'\n",
       "\n",
       "\n"
      ],
      "text/plain": [
       "[1] \"category\" \"2013-12\"  \"2014-12\"  \"2015-12\"  \"2016-12\"  \"2017-12\" "
      ]
     },
     "metadata": {},
     "output_type": "display_data"
    },
    {
     "data": {
      "text/html": [
       "<ol class=list-inline>\n",
       "\t<li>'category'</li>\n",
       "\t<li>'2013-12'</li>\n",
       "\t<li>'2014-12'</li>\n",
       "\t<li>'2015-12'</li>\n",
       "\t<li>'2016-12'</li>\n",
       "\t<li>'2017-12'</li>\n",
       "\t<li>'TTM'</li>\n",
       "</ol>\n"
      ],
      "text/latex": [
       "\\begin{enumerate*}\n",
       "\\item 'category'\n",
       "\\item '2013-12'\n",
       "\\item '2014-12'\n",
       "\\item '2015-12'\n",
       "\\item '2016-12'\n",
       "\\item '2017-12'\n",
       "\\item 'TTM'\n",
       "\\end{enumerate*}\n"
      ],
      "text/markdown": [
       "1. 'category'\n",
       "2. '2013-12'\n",
       "3. '2014-12'\n",
       "4. '2015-12'\n",
       "5. '2016-12'\n",
       "6. '2017-12'\n",
       "7. 'TTM'\n",
       "\n",
       "\n"
      ],
      "text/plain": [
       "[1] \"category\" \"2013-12\"  \"2014-12\"  \"2015-12\"  \"2016-12\"  \"2017-12\"  \"TTM\"     "
      ]
     },
     "metadata": {},
     "output_type": "display_data"
    },
    {
     "data": {
      "text/html": [
       "<ol class=list-inline>\n",
       "\t<li>'category'</li>\n",
       "\t<li>'2013-12'</li>\n",
       "\t<li>'2014-12'</li>\n",
       "\t<li>'2015-12'</li>\n",
       "\t<li>'2016-12'</li>\n",
       "\t<li>'2017-12'</li>\n",
       "\t<li>'TTM'</li>\n",
       "</ol>\n"
      ],
      "text/latex": [
       "\\begin{enumerate*}\n",
       "\\item 'category'\n",
       "\\item '2013-12'\n",
       "\\item '2014-12'\n",
       "\\item '2015-12'\n",
       "\\item '2016-12'\n",
       "\\item '2017-12'\n",
       "\\item 'TTM'\n",
       "\\end{enumerate*}\n"
      ],
      "text/markdown": [
       "1. 'category'\n",
       "2. '2013-12'\n",
       "3. '2014-12'\n",
       "4. '2015-12'\n",
       "5. '2016-12'\n",
       "6. '2017-12'\n",
       "7. 'TTM'\n",
       "\n",
       "\n"
      ],
      "text/plain": [
       "[1] \"category\" \"2013-12\"  \"2014-12\"  \"2015-12\"  \"2016-12\"  \"2017-12\"  \"TTM\"     "
      ]
     },
     "metadata": {},
     "output_type": "display_data"
    }
   ],
   "source": [
    "colnames(balance)\n",
    "colnames(income)\n",
    "colnames(cash)"
   ]
  },
  {
   "cell_type": "code",
   "execution_count": 4,
   "metadata": {
    "collapsed": false
   },
   "outputs": [],
   "source": [
    "#before we started, let's do some consolidation\n",
    "library(plyr)\n",
    "csld  <- rbind(balance, income[,1:6],cash[,1:6])"
   ]
  },
  {
   "cell_type": "markdown",
   "metadata": {},
   "source": [
    "## Return on Equity\n",
    "- Return on Equity = Net Income / Avg. Stockholders' Equity"
   ]
  },
  {
   "cell_type": "code",
   "execution_count": 5,
   "metadata": {
    "collapsed": false
   },
   "outputs": [],
   "source": [
    "NetIncome <- as.numeric(c(csld[50,3:6]))\n",
    "StockholdersEquity <- as.numeric(csld[35,2:6])\n",
    "AvgStockholdersEquity <- c()\n",
    "\n",
    "for (i in 1:4){\n",
    "    AvgStockholdersEquity[i] <- 0.5*(StockholdersEquity[i]+StockholdersEquity[i+1])\n",
    "}\n",
    "\n",
    "ROE <- NetIncome/AvgStockholdersEquity"
   ]
  },
  {
   "cell_type": "markdown",
   "metadata": {},
   "source": [
    "### Financial Leverage"
   ]
  },
  {
   "cell_type": "markdown",
   "metadata": {},
   "source": [
    "- Return on Assets = De-levered Net Income / Avg. Total Assets"
   ]
  },
  {
   "cell_type": "code",
   "execution_count": 7,
   "metadata": {
    "collapsed": false
   },
   "outputs": [],
   "source": [
    "TotalAssets <- as.numeric(csld[16,2:6])\n",
    "AvgTotalAssets<- c()\n",
    "\n",
    "for (i in 1:4){\n",
    "    AvgTotalAssets[i] <- 0.5*(TotalAssets[i]+TotalAssets[i+1])\n",
    "}\n",
    "\n",
    "ROA <- NetIncome/AvgTotalAssets"
   ]
  },
  {
   "cell_type": "markdown",
   "metadata": {},
   "source": [
    "- Financial Leverage = Avg. Total Assets / Avg. Stockholders’ Equity"
   ]
  },
  {
   "cell_type": "code",
   "execution_count": 8,
   "metadata": {
    "collapsed": true
   },
   "outputs": [],
   "source": [
    "FinancialLeverage <- AvgTotalAssets/AvgStockholdersEquity"
   ]
  },
  {
   "cell_type": "markdown",
   "metadata": {},
   "source": [
    "As for Statutory Tax Rate, I will assume 38% for now\n",
    "\n",
    "- Correction Factor = Net Income / De-levered Net Income\n",
    "- De-levered Net Income = Net Income + (Interest Exp. * (1 - Statutory Tax Rate))\n",
    "\n",
    "[Effective Tax Rates Can Differ Significantly from the Statutory Rate](https://www.gao.gov/products/GAO-13-520)"
   ]
  },
  {
   "cell_type": "code",
   "execution_count": 9,
   "metadata": {
    "collapsed": false
   },
   "outputs": [],
   "source": [
    "StatutoryTaxRate  <- 0.38\n",
    "InterestExp <- as.numeric(csld[45,3:6])\n",
    "DeleveredNetIncome <-  NetIncome + (InterestExp*(1-StatutoryTaxRate))\n",
    "\n",
    "CorrectionFactor <- NetIncome/DeleveredNetIncome"
   ]
  },
  {
   "cell_type": "markdown",
   "metadata": {},
   "source": [
    "### Return on Assets\n",
    "- Return on Sales =  De-levered Net Income / Sales \n",
    "- Asset turnover = Sales / Avg. Total Assets "
   ]
  },
  {
   "cell_type": "code",
   "execution_count": 10,
   "metadata": {
    "collapsed": true
   },
   "outputs": [],
   "source": [
    "Sales <- as.numeric(csld[37,3:6])\n",
    "ROS <- DeleveredNetIncome / Sales \n",
    "AssetTurnover <- Sales / AvgTotalAssets"
   ]
  },
  {
   "cell_type": "code",
   "execution_count": 11,
   "metadata": {
    "collapsed": true
   },
   "outputs": [],
   "source": [
    "ratios <- data.frame(ROE, ROA,FinancialLeverage,ROS,AssetTurnover,row.names = c('FY14','FY15','FY16','FY17'))"
   ]
  },
  {
   "cell_type": "code",
   "execution_count": 12,
   "metadata": {
    "collapsed": false,
    "scrolled": true
   },
   "outputs": [
    {
     "data": {
      "text/html": [
       "<table>\n",
       "<thead><tr><th></th><th scope=col>FY14</th><th scope=col>FY15</th><th scope=col>FY16</th><th scope=col>FY17</th></tr></thead>\n",
       "<tbody>\n",
       "\t<tr><th scope=row>ROE</th><td>0.16729323</td><td>0.06027934</td><td>0.07627983</td><td>0.17853721</td></tr>\n",
       "\t<tr><th scope=row>ROA</th><td>0.04282277</td><td>0.01425261</td><td>0.01572089</td><td>0.03429448</td></tr>\n",
       "\t<tr><th scope=row>FinancialLeverage</th><td>3.90664160</td><td>4.22935555</td><td>4.85213135</td><td>5.20600447</td></tr>\n",
       "\t<tr><th scope=row>ROS</th><td>0.05447048</td><td>0.03313864</td><td>0.03170649</td><td>0.06042590</td></tr>\n",
       "\t<tr><th scope=row>AssetTurnover</th><td>0.88291901</td><td>0.78563152</td><td>0.74241278</td><td>0.71736196</td></tr>\n",
       "</tbody>\n",
       "</table>\n"
      ],
      "text/latex": [
       "\\begin{tabular}{r|llll}\n",
       "  & FY14 & FY15 & FY16 & FY17\\\\\n",
       "\\hline\n",
       "\tROE & 0.16729323 & 0.06027934 & 0.07627983 & 0.17853721\\\\\n",
       "\tROA & 0.04282277 & 0.01425261 & 0.01572089 & 0.03429448\\\\\n",
       "\tFinancialLeverage & 3.90664160 & 4.22935555 & 4.85213135 & 5.20600447\\\\\n",
       "\tROS & 0.05447048 & 0.03313864 & 0.03170649 & 0.06042590\\\\\n",
       "\tAssetTurnover & 0.88291901 & 0.78563152 & 0.74241278 & 0.71736196\\\\\n",
       "\\end{tabular}\n"
      ],
      "text/markdown": [
       "\n",
       "| <!--/--> | FY14 | FY15 | FY16 | FY17 | \n",
       "|---|---|---|---|---|\n",
       "| ROE | 0.16729323 | 0.06027934 | 0.07627983 | 0.17853721 | \n",
       "| ROA | 0.04282277 | 0.01425261 | 0.01572089 | 0.03429448 | \n",
       "| FinancialLeverage | 3.90664160 | 4.22935555 | 4.85213135 | 5.20600447 | \n",
       "| ROS | 0.05447048 | 0.03313864 | 0.03170649 | 0.06042590 | \n",
       "| AssetTurnover | 0.88291901 | 0.78563152 | 0.74241278 | 0.71736196 | \n",
       "\n",
       "\n"
      ],
      "text/plain": [
       "                  FY14       FY15       FY16       FY17      \n",
       "ROE               0.16729323 0.06027934 0.07627983 0.17853721\n",
       "ROA               0.04282277 0.01425261 0.01572089 0.03429448\n",
       "FinancialLeverage 3.90664160 4.22935555 4.85213135 5.20600447\n",
       "ROS               0.05447048 0.03313864 0.03170649 0.06042590\n",
       "AssetTurnover     0.88291901 0.78563152 0.74241278 0.71736196"
      ]
     },
     "metadata": {},
     "output_type": "display_data"
    }
   ],
   "source": [
    "t(ratios)\n",
    "#https://cran.r-project.org/web/packages/formattable/vignettes/formattable-data-frame.html"
   ]
  },
  {
   "cell_type": "markdown",
   "metadata": {},
   "source": [
    "#### Return on Sales\n",
    "##### Profitability\n",
    "\n",
    "- Gross Margin = (Sales - Cost of Goods Sold) / Sales \n",
    "- SGA as of Sales = SGA Expense / Sales \n",
    "- Operating Margin = Operating Income / Sales \n",
    "- Interest Expense as  of Sales = Interest Expense / Sales \n",
    "- Effective Tax Rate = Income Taxes / Pre-tax Income \n",
    "\n",
    "[How to Calculate the Effective Tax Rate of a Corporation](https://www.fool.com/knowledge-center/how-to-calculate-the-effective-tax-rate-of-a-corpo.aspx)\n",
    "\n",
    "[SEC FILINGS](https://www.sec.gov/Archives/edgar/data/1065280/000106528018000069/q4nflx201710k.htm#sE1D5BA7DC75D59B9843BA1F37B4C71EA)\n"
   ]
  },
  {
   "cell_type": "code",
   "execution_count": 13,
   "metadata": {
    "collapsed": true
   },
   "outputs": [],
   "source": [
    "GrossMargin  <- (Sales-as.numeric(csld[39,3:6]) / Sales)"
   ]
  },
  {
   "cell_type": "code",
   "execution_count": 14,
   "metadata": {
    "collapsed": false
   },
   "outputs": [],
   "source": [
    "SGAasofSales <- as.numeric(csld[42,3:6]) / Sales"
   ]
  },
  {
   "cell_type": "code",
   "execution_count": 15,
   "metadata": {
    "collapsed": true
   },
   "outputs": [],
   "source": [
    "OperatingMargin <- as.numeric(csld[44,3:6]) / Sales"
   ]
  },
  {
   "cell_type": "code",
   "execution_count": 16,
   "metadata": {
    "collapsed": true
   },
   "outputs": [],
   "source": [
    "InterestExpenseasofSales <- as.numeric(csld[45,3:6]) / Sales"
   ]
  },
  {
   "cell_type": "code",
   "execution_count": 17,
   "metadata": {
    "collapsed": true
   },
   "outputs": [],
   "source": [
    "InterestExpenseasofSales <- as.numeric(csld[48,3:6]) / as.numeric(csld[47,3:6]) "
   ]
  },
  {
   "cell_type": "markdown",
   "metadata": {},
   "source": [
    "##### Asset Turnover Ratios\t\t\n",
    "> NETFLIX receivables from members generally settle quickly and deferred revenue is a source of cash flow.\n",
    "\n",
    "- Accounts Receivables Turnover = Sales / Avg. Accounts Receivable\n",
    "- Inventory Turnover = Cost of Goods Sold / Avg. Inventory\n",
    "- Accounts Payable Turnover = Purchases / Avg. Accounts Payable\n",
    "- Fixed Asset Turnover = Sales / Avg. Net Property, Plant and Equipment\n",
    "\n",
    "- Accounts Receivables Turnover = Sales / Avg. Accounts Receivable\n",
    "- Accounts Payable Turnover = Purchases / Avg. Accounts Payable"
   ]
  },
  {
   "cell_type": "markdown",
   "metadata": {},
   "source": [
    "##### Days Turnover Ratios\t\t\n",
    "- Days Receivables =  365 * (Avg. Accounts Receivable / Sales)\n",
    "- Days Inventory = 365 * (Avg. Inventory / Cost of Goods Sold)\n",
    "- Days Payable = 365 * (Avg. Accounts Payable / Purchases)\n",
    "- Net Trade Cycle = Days Receivable + Days Inventory - Days Payable\n",
    "- Net Trade Cycle = Days Receivable + Days Inventory"
   ]
  },
  {
   "cell_type": "markdown",
   "metadata": {},
   "source": [
    "#### Liquidity Analysis\t\t\n",
    "- Current Ratio = Current Assets / Current Liabilities\n",
    "- Quick Ratio = (Cash + Accts Rec) / Current Liabilities\n",
    "- CFO-to-Current Liabilities = Cash from Operations / Avg. Current Laibilities\n",
    "\t\t\n",
    "- Interest Coverage = Operating Income before Depreciation / Interest Expense\n",
    "- Cash Interest Coverage = (Cash from Operations + Cash Interest + Cash Taxes) / Cash Interest Paid\n",
    "\t\t\n",
    "- Debt to Equity = Total Liabilities / Total Stockholders’ Equity\n",
    "- Long-Term-Debt to Equity = Total Long-Term Debt / Total Stockholders’ Equity\n",
    "- Long-Term Debt to Tangible Assets = Total Long-Term Debt / (Total Assets - Intangible Assets)"
   ]
  },
  {
   "cell_type": "code",
   "execution_count": 18,
   "metadata": {
    "collapsed": true
   },
   "outputs": [],
   "source": [
    "CurrentRatio  <- as.numeric(csld[8,3:6]) / as.numeric(csld[19,3:6])"
   ]
  },
  {
   "cell_type": "code",
   "execution_count": 19,
   "metadata": {
    "collapsed": false
   },
   "outputs": [],
   "source": [
    "CurrentLaibilities <- as.numeric(csld[24,2:6])\n",
    "AvgCurrentLaibilities <- c()\n",
    "\n",
    "for (i in 1:4){\n",
    "    AvgCurrentLaibilities[i] <- 0.5*(CurrentLaibilities[i]+CurrentLaibilities[i+1])\n",
    "}\n",
    "\n",
    "CFOtoCurrentLiabilities <- as.numeric(csld[70,3:6]) / AvgCurrentLaibilities"
   ]
  },
  {
   "cell_type": "markdown",
   "metadata": {},
   "source": [
    "## Other Information\t\t\n",
    "- Sales Growth = Change in Sales / Prior Year Sales\n",
    "- Federal Statutory Rate + State and Foreign Statutory Rates (excludes permanent differences)\n",
    "- De-levered Net Income = Net Income + (Interest Exp. * (1 - Statutory Tax Rate))\n",
    "- Purchases = Ending Inventory + COGS – Beginning Inventory\n",
    "- Weighted Avg Depreciation Rate = Depreciation  Amortization / (Avg. Gross PPE + Avg. Intangible Assets)\n",
    "- Weighted Avg Interest Rate = Interest Expense / Avg. Long-Term Debt"
   ]
  }
 ],
 "metadata": {
  "anaconda-cloud": {},
  "kernelspec": {
   "display_name": "R",
   "language": "R",
   "name": "ir"
  },
  "language_info": {
   "codemirror_mode": "r",
   "file_extension": ".r",
   "mimetype": "text/x-r-source",
   "name": "R",
   "pygments_lexer": "r",
   "version": "3.5.0"
  },
  "latex_envs": {
   "LaTeX_envs_menu_present": true,
   "autocomplete": true,
   "bibliofile": "biblio.bib",
   "cite_by": "apalike",
   "current_citInitial": 1,
   "eqLabelWithNumbers": true,
   "eqNumInitial": 1,
   "hotkeys": {
    "equation": "Ctrl-E",
    "itemize": "Ctrl-I"
   },
   "labels_anchors": false,
   "latex_user_defs": false,
   "report_style_numbering": false,
   "user_envs_cfg": false
  },
  "toc": {
   "base_numbering": 1,
   "nav_menu": {},
   "number_sections": true,
   "sideBar": true,
   "skip_h1_title": false,
   "title_cell": "Table of Contents",
   "title_sidebar": "Contents",
   "toc_cell": false,
   "toc_position": {
    "height": "calc(100% - 180px)",
    "left": "10px",
    "top": "150px",
    "width": "384px"
   },
   "toc_section_display": "block",
   "toc_window_display": true
  }
 },
 "nbformat": 4,
 "nbformat_minor": 2
}
